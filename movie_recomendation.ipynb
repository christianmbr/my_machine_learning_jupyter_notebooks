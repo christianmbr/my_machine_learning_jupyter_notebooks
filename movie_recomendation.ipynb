{
  "nbformat": 4,
  "nbformat_minor": 0,
  "metadata": {
    "colab": {
      "provenance": []
    },
    "kernelspec": {
      "name": "python3",
      "display_name": "Python 3"
    },
    "language_info": {
      "name": "python"
    }
  },
  "cells": [
    {
      "cell_type": "code",
      "source": [
        "import pandas as pd\n",
        "import numpy as np"
      ],
      "metadata": {
        "id": "63C8W0svxWjV"
      },
      "execution_count": null,
      "outputs": []
    },
    {
      "cell_type": "markdown",
      "source": [
        "Base de datos de Keagle [aquí](https://www.kaggle.com/datasets/tmdb/tmdb-movie-metadata?select=tmdb_5000_credits.csv)"
      ],
      "metadata": {
        "id": "GXniXQIzFrzd"
      }
    },
    {
      "cell_type": "markdown",
      "source": [
        "# Demographic Filtering"
      ],
      "metadata": {
        "id": "4GxUFqMpFd0t"
      }
    },
    {
      "cell_type": "code",
      "source": [
        "db1 = pd.read_csv('/content/drive/MyDrive/Colab Notebooks/movie recomendation/tmdb_5000_credits.csv')\n",
        "db2 = pd.read_csv('/content/drive/MyDrive/Colab Notebooks/movie recomendation/tmdb_5000_movies.csv')"
      ],
      "metadata": {
        "id": "f71_M_Wmxi9i"
      },
      "execution_count": null,
      "outputs": []
    },
    {
      "cell_type": "code",
      "source": [
        "db1.columns = ['id', 'tittle', 'cast', 'crew']\n",
        "db1.columns"
      ],
      "metadata": {
        "colab": {
          "base_uri": "https://localhost:8080/"
        },
        "id": "kRyAtrF9yDUJ",
        "outputId": "ebc94805-7394-471a-af55-c93a7fe52f8e"
      },
      "execution_count": null,
      "outputs": [
        {
          "output_type": "execute_result",
          "data": {
            "text/plain": [
              "Index(['id', 'tittle', 'cast', 'crew'], dtype='object')"
            ]
          },
          "metadata": {},
          "execution_count": 13
        }
      ]
    },
    {
      "cell_type": "code",
      "source": [
        "db = db2.merge(db1, on='id')"
      ],
      "metadata": {
        "id": "AaTTKvL3yKJz"
      },
      "execution_count": null,
      "outputs": []
    },
    {
      "cell_type": "code",
      "source": [
        "db.columns"
      ],
      "metadata": {
        "colab": {
          "base_uri": "https://localhost:8080/"
        },
        "id": "sPfYPKkwy55L",
        "outputId": "45ec1afb-8565-447e-92f4-3c2a0b6c9060"
      },
      "execution_count": null,
      "outputs": [
        {
          "output_type": "execute_result",
          "data": {
            "text/plain": [
              "Index(['budget', 'genres', 'homepage', 'id', 'keywords', 'original_language',\n",
              "       'original_title', 'overview', 'popularity', 'production_companies',\n",
              "       'production_countries', 'release_date', 'revenue', 'runtime',\n",
              "       'spoken_languages', 'status', 'tagline', 'title', 'vote_average',\n",
              "       'vote_count', 'tittle', 'cast', 'crew'],\n",
              "      dtype='object')"
            ]
          },
          "metadata": {},
          "execution_count": 18
        }
      ]
    },
    {
      "cell_type": "markdown",
      "source": [
        "Calificación ponderada.\n",
        "Formula >\n",
        "\n",
        "v is the number of votes for the movie;\n",
        "\n",
        "m is the minimum votes required to be listed in the chart;\n",
        "\n",
        "R is the average rating of the movie;\n",
        "\n",
        "C is the mean vote across the whole report"
      ],
      "metadata": {
        "id": "w1SgAx-l2KJI"
      }
    },
    {
      "cell_type": "markdown",
      "source": [
        "\n",
        "![image.png](data:image/png;base64,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)\n"
      ],
      "metadata": {
        "id": "ecn_IFWw1_-_"
      }
    },
    {
      "cell_type": "code",
      "source": [
        "c = db['vote_average'].mean()\n",
        "m = db['vote_count'].quantile(0.9)"
      ],
      "metadata": {
        "id": "y1991BRe2XrX"
      },
      "execution_count": null,
      "outputs": []
    },
    {
      "cell_type": "markdown",
      "source": [
        "Filtramos aquellas peliculas que no tienen la suficiente cantidad de votos como para ser reecomendadas."
      ],
      "metadata": {
        "id": "He_pqU2G5H5K"
      }
    },
    {
      "cell_type": "code",
      "source": [
        "recomended_movies = db.copy().loc[db['vote_count'] >= m]\n",
        "print('Peliculas filtradas:', recomended_movies.shape[0])"
      ],
      "metadata": {
        "colab": {
          "base_uri": "https://localhost:8080/"
        },
        "id": "1aCEa6zg5HLK",
        "outputId": "02535ab9-c9ac-4156-bbe4-d3960501e615"
      },
      "execution_count": null,
      "outputs": [
        {
          "output_type": "stream",
          "name": "stdout",
          "text": [
            "Peliculas filtradas: 481\n"
          ]
        }
      ]
    },
    {
      "cell_type": "code",
      "source": [
        "# Creamos funcion de Calificación ponderada.\n",
        "def weighted_rating(data_frame, c=c , m=m):\n",
        "  v = data_frame['vote_count']\n",
        "  R = data_frame['vote_average']\n",
        "\n",
        "  return (v/(v+m) * R) + (m/(m+v) * c)"
      ],
      "metadata": {
        "id": "AM-OeLjw_P90"
      },
      "execution_count": null,
      "outputs": []
    },
    {
      "cell_type": "code",
      "source": [
        "recomended_movies['score'] = recomended_movies.apply(weighted_rating, axis=1)"
      ],
      "metadata": {
        "id": "MwTWjE_A_v4k"
      },
      "execution_count": null,
      "outputs": []
    },
    {
      "cell_type": "code",
      "source": [
        "sort_movies = recomended_movies.sort_values('score', ascending=False)\n",
        "sort_movies[['title', 'vote_count', 'vote_average', 'score']].head()"
      ],
      "metadata": {
        "colab": {
          "base_uri": "https://localhost:8080/",
          "height": 206
        },
        "id": "1a4k65vs98U5",
        "outputId": "59fa0791-1948-47b0-ebec-a3c9340a8ac5"
      },
      "execution_count": null,
      "outputs": [
        {
          "output_type": "execute_result",
          "data": {
            "text/plain": [
              "                         title  vote_count  vote_average     score\n",
              "1881  The Shawshank Redemption        8205           8.5  8.059258\n",
              "662                 Fight Club        9413           8.3  7.939256\n",
              "65             The Dark Knight       12002           8.2  7.920020\n",
              "3232              Pulp Fiction        8428           8.3  7.904645\n",
              "96                   Inception       13752           8.1  7.863239"
            ],
            "text/html": [
              "\n",
              "  <div id=\"df-5c5308bc-3917-475f-9988-4ac140acbdc5\" class=\"colab-df-container\">\n",
              "    <div>\n",
              "<style scoped>\n",
              "    .dataframe tbody tr th:only-of-type {\n",
              "        vertical-align: middle;\n",
              "    }\n",
              "\n",
              "    .dataframe tbody tr th {\n",
              "        vertical-align: top;\n",
              "    }\n",
              "\n",
              "    .dataframe thead th {\n",
              "        text-align: right;\n",
              "    }\n",
              "</style>\n",
              "<table border=\"1\" class=\"dataframe\">\n",
              "  <thead>\n",
              "    <tr style=\"text-align: right;\">\n",
              "      <th></th>\n",
              "      <th>title</th>\n",
              "      <th>vote_count</th>\n",
              "      <th>vote_average</th>\n",
              "      <th>score</th>\n",
              "    </tr>\n",
              "  </thead>\n",
              "  <tbody>\n",
              "    <tr>\n",
              "      <th>1881</th>\n",
              "      <td>The Shawshank Redemption</td>\n",
              "      <td>8205</td>\n",
              "      <td>8.5</td>\n",
              "      <td>8.059258</td>\n",
              "    </tr>\n",
              "    <tr>\n",
              "      <th>662</th>\n",
              "      <td>Fight Club</td>\n",
              "      <td>9413</td>\n",
              "      <td>8.3</td>\n",
              "      <td>7.939256</td>\n",
              "    </tr>\n",
              "    <tr>\n",
              "      <th>65</th>\n",
              "      <td>The Dark Knight</td>\n",
              "      <td>12002</td>\n",
              "      <td>8.2</td>\n",
              "      <td>7.920020</td>\n",
              "    </tr>\n",
              "    <tr>\n",
              "      <th>3232</th>\n",
              "      <td>Pulp Fiction</td>\n",
              "      <td>8428</td>\n",
              "      <td>8.3</td>\n",
              "      <td>7.904645</td>\n",
              "    </tr>\n",
              "    <tr>\n",
              "      <th>96</th>\n",
              "      <td>Inception</td>\n",
              "      <td>13752</td>\n",
              "      <td>8.1</td>\n",
              "      <td>7.863239</td>\n",
              "    </tr>\n",
              "  </tbody>\n",
              "</table>\n",
              "</div>\n",
              "    <div class=\"colab-df-buttons\">\n",
              "\n",
              "  <div class=\"colab-df-container\">\n",
              "    <button class=\"colab-df-convert\" onclick=\"convertToInteractive('df-5c5308bc-3917-475f-9988-4ac140acbdc5')\"\n",
              "            title=\"Convert this dataframe to an interactive table.\"\n",
              "            style=\"display:none;\">\n",
              "\n",
              "  <svg xmlns=\"http://www.w3.org/2000/svg\" height=\"24px\" viewBox=\"0 -960 960 960\">\n",
              "    <path d=\"M120-120v-720h720v720H120Zm60-500h600v-160H180v160Zm220 220h160v-160H400v160Zm0 220h160v-160H400v160ZM180-400h160v-160H180v160Zm440 0h160v-160H620v160ZM180-180h160v-160H180v160Zm440 0h160v-160H620v160Z\"/>\n",
              "  </svg>\n",
              "    </button>\n",
              "\n",
              "  <style>\n",
              "    .colab-df-container {\n",
              "      display:flex;\n",
              "      gap: 12px;\n",
              "    }\n",
              "\n",
              "    .colab-df-convert {\n",
              "      background-color: #E8F0FE;\n",
              "      border: none;\n",
              "      border-radius: 50%;\n",
              "      cursor: pointer;\n",
              "      display: none;\n",
              "      fill: #1967D2;\n",
              "      height: 32px;\n",
              "      padding: 0 0 0 0;\n",
              "      width: 32px;\n",
              "    }\n",
              "\n",
              "    .colab-df-convert:hover {\n",
              "      background-color: #E2EBFA;\n",
              "      box-shadow: 0px 1px 2px rgba(60, 64, 67, 0.3), 0px 1px 3px 1px rgba(60, 64, 67, 0.15);\n",
              "      fill: #174EA6;\n",
              "    }\n",
              "\n",
              "    .colab-df-buttons div {\n",
              "      margin-bottom: 4px;\n",
              "    }\n",
              "\n",
              "    [theme=dark] .colab-df-convert {\n",
              "      background-color: #3B4455;\n",
              "      fill: #D2E3FC;\n",
              "    }\n",
              "\n",
              "    [theme=dark] .colab-df-convert:hover {\n",
              "      background-color: #434B5C;\n",
              "      box-shadow: 0px 1px 3px 1px rgba(0, 0, 0, 0.15);\n",
              "      filter: drop-shadow(0px 1px 2px rgba(0, 0, 0, 0.3));\n",
              "      fill: #FFFFFF;\n",
              "    }\n",
              "  </style>\n",
              "\n",
              "    <script>\n",
              "      const buttonEl =\n",
              "        document.querySelector('#df-5c5308bc-3917-475f-9988-4ac140acbdc5 button.colab-df-convert');\n",
              "      buttonEl.style.display =\n",
              "        google.colab.kernel.accessAllowed ? 'block' : 'none';\n",
              "\n",
              "      async function convertToInteractive(key) {\n",
              "        const element = document.querySelector('#df-5c5308bc-3917-475f-9988-4ac140acbdc5');\n",
              "        const dataTable =\n",
              "          await google.colab.kernel.invokeFunction('convertToInteractive',\n",
              "                                                    [key], {});\n",
              "        if (!dataTable) return;\n",
              "\n",
              "        const docLinkHtml = 'Like what you see? Visit the ' +\n",
              "          '<a target=\"_blank\" href=https://colab.research.google.com/notebooks/data_table.ipynb>data table notebook</a>'\n",
              "          + ' to learn more about interactive tables.';\n",
              "        element.innerHTML = '';\n",
              "        dataTable['output_type'] = 'display_data';\n",
              "        await google.colab.output.renderOutput(dataTable, element);\n",
              "        const docLink = document.createElement('div');\n",
              "        docLink.innerHTML = docLinkHtml;\n",
              "        element.appendChild(docLink);\n",
              "      }\n",
              "    </script>\n",
              "  </div>\n",
              "\n",
              "\n",
              "<div id=\"df-bd35789a-b3e1-4b35-b850-481be07a4692\">\n",
              "  <button class=\"colab-df-quickchart\" onclick=\"quickchart('df-bd35789a-b3e1-4b35-b850-481be07a4692')\"\n",
              "            title=\"Suggest charts\"\n",
              "            style=\"display:none;\">\n",
              "\n",
              "<svg xmlns=\"http://www.w3.org/2000/svg\" height=\"24px\"viewBox=\"0 0 24 24\"\n",
              "     width=\"24px\">\n",
              "    <g>\n",
              "        <path d=\"M19 3H5c-1.1 0-2 .9-2 2v14c0 1.1.9 2 2 2h14c1.1 0 2-.9 2-2V5c0-1.1-.9-2-2-2zM9 17H7v-7h2v7zm4 0h-2V7h2v10zm4 0h-2v-4h2v4z\"/>\n",
              "    </g>\n",
              "</svg>\n",
              "  </button>\n",
              "\n",
              "<style>\n",
              "  .colab-df-quickchart {\n",
              "      --bg-color: #E8F0FE;\n",
              "      --fill-color: #1967D2;\n",
              "      --hover-bg-color: #E2EBFA;\n",
              "      --hover-fill-color: #174EA6;\n",
              "      --disabled-fill-color: #AAA;\n",
              "      --disabled-bg-color: #DDD;\n",
              "  }\n",
              "\n",
              "  [theme=dark] .colab-df-quickchart {\n",
              "      --bg-color: #3B4455;\n",
              "      --fill-color: #D2E3FC;\n",
              "      --hover-bg-color: #434B5C;\n",
              "      --hover-fill-color: #FFFFFF;\n",
              "      --disabled-bg-color: #3B4455;\n",
              "      --disabled-fill-color: #666;\n",
              "  }\n",
              "\n",
              "  .colab-df-quickchart {\n",
              "    background-color: var(--bg-color);\n",
              "    border: none;\n",
              "    border-radius: 50%;\n",
              "    cursor: pointer;\n",
              "    display: none;\n",
              "    fill: var(--fill-color);\n",
              "    height: 32px;\n",
              "    padding: 0;\n",
              "    width: 32px;\n",
              "  }\n",
              "\n",
              "  .colab-df-quickchart:hover {\n",
              "    background-color: var(--hover-bg-color);\n",
              "    box-shadow: 0 1px 2px rgba(60, 64, 67, 0.3), 0 1px 3px 1px rgba(60, 64, 67, 0.15);\n",
              "    fill: var(--button-hover-fill-color);\n",
              "  }\n",
              "\n",
              "  .colab-df-quickchart-complete:disabled,\n",
              "  .colab-df-quickchart-complete:disabled:hover {\n",
              "    background-color: var(--disabled-bg-color);\n",
              "    fill: var(--disabled-fill-color);\n",
              "    box-shadow: none;\n",
              "  }\n",
              "\n",
              "  .colab-df-spinner {\n",
              "    border: 2px solid var(--fill-color);\n",
              "    border-color: transparent;\n",
              "    border-bottom-color: var(--fill-color);\n",
              "    animation:\n",
              "      spin 1s steps(1) infinite;\n",
              "  }\n",
              "\n",
              "  @keyframes spin {\n",
              "    0% {\n",
              "      border-color: transparent;\n",
              "      border-bottom-color: var(--fill-color);\n",
              "      border-left-color: var(--fill-color);\n",
              "    }\n",
              "    20% {\n",
              "      border-color: transparent;\n",
              "      border-left-color: var(--fill-color);\n",
              "      border-top-color: var(--fill-color);\n",
              "    }\n",
              "    30% {\n",
              "      border-color: transparent;\n",
              "      border-left-color: var(--fill-color);\n",
              "      border-top-color: var(--fill-color);\n",
              "      border-right-color: var(--fill-color);\n",
              "    }\n",
              "    40% {\n",
              "      border-color: transparent;\n",
              "      border-right-color: var(--fill-color);\n",
              "      border-top-color: var(--fill-color);\n",
              "    }\n",
              "    60% {\n",
              "      border-color: transparent;\n",
              "      border-right-color: var(--fill-color);\n",
              "    }\n",
              "    80% {\n",
              "      border-color: transparent;\n",
              "      border-right-color: var(--fill-color);\n",
              "      border-bottom-color: var(--fill-color);\n",
              "    }\n",
              "    90% {\n",
              "      border-color: transparent;\n",
              "      border-bottom-color: var(--fill-color);\n",
              "    }\n",
              "  }\n",
              "</style>\n",
              "\n",
              "  <script>\n",
              "    async function quickchart(key) {\n",
              "      const quickchartButtonEl =\n",
              "        document.querySelector('#' + key + ' button');\n",
              "      quickchartButtonEl.disabled = true;  // To prevent multiple clicks.\n",
              "      quickchartButtonEl.classList.add('colab-df-spinner');\n",
              "      try {\n",
              "        const charts = await google.colab.kernel.invokeFunction(\n",
              "            'suggestCharts', [key], {});\n",
              "      } catch (error) {\n",
              "        console.error('Error during call to suggestCharts:', error);\n",
              "      }\n",
              "      quickchartButtonEl.classList.remove('colab-df-spinner');\n",
              "      quickchartButtonEl.classList.add('colab-df-quickchart-complete');\n",
              "    }\n",
              "    (() => {\n",
              "      let quickchartButtonEl =\n",
              "        document.querySelector('#df-bd35789a-b3e1-4b35-b850-481be07a4692 button');\n",
              "      quickchartButtonEl.style.display =\n",
              "        google.colab.kernel.accessAllowed ? 'block' : 'none';\n",
              "    })();\n",
              "  </script>\n",
              "</div>\n",
              "\n",
              "    </div>\n",
              "  </div>\n"
            ],
            "application/vnd.google.colaboratory.intrinsic+json": {
              "type": "dataframe",
              "summary": "{\n  \"name\": \"sort_movies[['title', 'vote_count', 'vote_average', 'score']]\",\n  \"rows\": 5,\n  \"fields\": [\n    {\n      \"column\": \"title\",\n      \"properties\": {\n        \"dtype\": \"string\",\n        \"num_unique_values\": 5,\n        \"samples\": [\n          \"Fight Club\",\n          \"Inception\",\n          \"The Dark Knight\"\n        ],\n        \"semantic_type\": \"\",\n        \"description\": \"\"\n      }\n    },\n    {\n      \"column\": \"vote_count\",\n      \"properties\": {\n        \"dtype\": \"number\",\n        \"std\": 2422,\n        \"min\": 8205,\n        \"max\": 13752,\n        \"num_unique_values\": 5,\n        \"samples\": [\n          9413,\n          13752,\n          12002\n        ],\n        \"semantic_type\": \"\",\n        \"description\": \"\"\n      }\n    },\n    {\n      \"column\": \"vote_average\",\n      \"properties\": {\n        \"dtype\": \"number\",\n        \"std\": 0.1483239697419135,\n        \"min\": 8.1,\n        \"max\": 8.5,\n        \"num_unique_values\": 4,\n        \"samples\": [\n          8.3,\n          8.1,\n          8.5\n        ],\n        \"semantic_type\": \"\",\n        \"description\": \"\"\n      }\n    },\n    {\n      \"column\": \"score\",\n      \"properties\": {\n        \"dtype\": \"number\",\n        \"std\": 0.07370107253824883,\n        \"min\": 7.863239441892331,\n        \"max\": 8.059257641324471,\n        \"num_unique_values\": 5,\n        \"samples\": [\n          7.939256287651155,\n          7.863239441892331,\n          7.92002024470956\n        ],\n        \"semantic_type\": \"\",\n        \"description\": \"\"\n      }\n    }\n  ]\n}"
            }
          },
          "metadata": {},
          "execution_count": 59
        }
      ]
    },
    {
      "cell_type": "markdown",
      "source": [
        "Top pelicula mas recomendadas dentro de mi conjunto de dato."
      ],
      "metadata": {
        "id": "x9ppdt4jFMTf"
      }
    },
    {
      "cell_type": "code",
      "source": [
        "recomended_movies[['title', 'popularity']].head()"
      ],
      "metadata": {
        "colab": {
          "base_uri": "https://localhost:8080/",
          "height": 206
        },
        "id": "s9yTwIhj-aJ_",
        "outputId": "bc3f66ac-64bc-4a94-b386-6236b9ea22ab"
      },
      "execution_count": null,
      "outputs": [
        {
          "output_type": "execute_result",
          "data": {
            "text/plain": [
              "                                      title  popularity\n",
              "0                                    Avatar  150.437577\n",
              "1  Pirates of the Caribbean: At World's End  139.082615\n",
              "2                                   Spectre  107.376788\n",
              "3                     The Dark Knight Rises  112.312950\n",
              "4                               John Carter   43.926995"
            ],
            "text/html": [
              "\n",
              "  <div id=\"df-6e8e1c9e-eab5-4925-91b5-cfa87f8a4490\" class=\"colab-df-container\">\n",
              "    <div>\n",
              "<style scoped>\n",
              "    .dataframe tbody tr th:only-of-type {\n",
              "        vertical-align: middle;\n",
              "    }\n",
              "\n",
              "    .dataframe tbody tr th {\n",
              "        vertical-align: top;\n",
              "    }\n",
              "\n",
              "    .dataframe thead th {\n",
              "        text-align: right;\n",
              "    }\n",
              "</style>\n",
              "<table border=\"1\" class=\"dataframe\">\n",
              "  <thead>\n",
              "    <tr style=\"text-align: right;\">\n",
              "      <th></th>\n",
              "      <th>title</th>\n",
              "      <th>popularity</th>\n",
              "    </tr>\n",
              "  </thead>\n",
              "  <tbody>\n",
              "    <tr>\n",
              "      <th>0</th>\n",
              "      <td>Avatar</td>\n",
              "      <td>150.437577</td>\n",
              "    </tr>\n",
              "    <tr>\n",
              "      <th>1</th>\n",
              "      <td>Pirates of the Caribbean: At World's End</td>\n",
              "      <td>139.082615</td>\n",
              "    </tr>\n",
              "    <tr>\n",
              "      <th>2</th>\n",
              "      <td>Spectre</td>\n",
              "      <td>107.376788</td>\n",
              "    </tr>\n",
              "    <tr>\n",
              "      <th>3</th>\n",
              "      <td>The Dark Knight Rises</td>\n",
              "      <td>112.312950</td>\n",
              "    </tr>\n",
              "    <tr>\n",
              "      <th>4</th>\n",
              "      <td>John Carter</td>\n",
              "      <td>43.926995</td>\n",
              "    </tr>\n",
              "  </tbody>\n",
              "</table>\n",
              "</div>\n",
              "    <div class=\"colab-df-buttons\">\n",
              "\n",
              "  <div class=\"colab-df-container\">\n",
              "    <button class=\"colab-df-convert\" onclick=\"convertToInteractive('df-6e8e1c9e-eab5-4925-91b5-cfa87f8a4490')\"\n",
              "            title=\"Convert this dataframe to an interactive table.\"\n",
              "            style=\"display:none;\">\n",
              "\n",
              "  <svg xmlns=\"http://www.w3.org/2000/svg\" height=\"24px\" viewBox=\"0 -960 960 960\">\n",
              "    <path d=\"M120-120v-720h720v720H120Zm60-500h600v-160H180v160Zm220 220h160v-160H400v160Zm0 220h160v-160H400v160ZM180-400h160v-160H180v160Zm440 0h160v-160H620v160ZM180-180h160v-160H180v160Zm440 0h160v-160H620v160Z\"/>\n",
              "  </svg>\n",
              "    </button>\n",
              "\n",
              "  <style>\n",
              "    .colab-df-container {\n",
              "      display:flex;\n",
              "      gap: 12px;\n",
              "    }\n",
              "\n",
              "    .colab-df-convert {\n",
              "      background-color: #E8F0FE;\n",
              "      border: none;\n",
              "      border-radius: 50%;\n",
              "      cursor: pointer;\n",
              "      display: none;\n",
              "      fill: #1967D2;\n",
              "      height: 32px;\n",
              "      padding: 0 0 0 0;\n",
              "      width: 32px;\n",
              "    }\n",
              "\n",
              "    .colab-df-convert:hover {\n",
              "      background-color: #E2EBFA;\n",
              "      box-shadow: 0px 1px 2px rgba(60, 64, 67, 0.3), 0px 1px 3px 1px rgba(60, 64, 67, 0.15);\n",
              "      fill: #174EA6;\n",
              "    }\n",
              "\n",
              "    .colab-df-buttons div {\n",
              "      margin-bottom: 4px;\n",
              "    }\n",
              "\n",
              "    [theme=dark] .colab-df-convert {\n",
              "      background-color: #3B4455;\n",
              "      fill: #D2E3FC;\n",
              "    }\n",
              "\n",
              "    [theme=dark] .colab-df-convert:hover {\n",
              "      background-color: #434B5C;\n",
              "      box-shadow: 0px 1px 3px 1px rgba(0, 0, 0, 0.15);\n",
              "      filter: drop-shadow(0px 1px 2px rgba(0, 0, 0, 0.3));\n",
              "      fill: #FFFFFF;\n",
              "    }\n",
              "  </style>\n",
              "\n",
              "    <script>\n",
              "      const buttonEl =\n",
              "        document.querySelector('#df-6e8e1c9e-eab5-4925-91b5-cfa87f8a4490 button.colab-df-convert');\n",
              "      buttonEl.style.display =\n",
              "        google.colab.kernel.accessAllowed ? 'block' : 'none';\n",
              "\n",
              "      async function convertToInteractive(key) {\n",
              "        const element = document.querySelector('#df-6e8e1c9e-eab5-4925-91b5-cfa87f8a4490');\n",
              "        const dataTable =\n",
              "          await google.colab.kernel.invokeFunction('convertToInteractive',\n",
              "                                                    [key], {});\n",
              "        if (!dataTable) return;\n",
              "\n",
              "        const docLinkHtml = 'Like what you see? Visit the ' +\n",
              "          '<a target=\"_blank\" href=https://colab.research.google.com/notebooks/data_table.ipynb>data table notebook</a>'\n",
              "          + ' to learn more about interactive tables.';\n",
              "        element.innerHTML = '';\n",
              "        dataTable['output_type'] = 'display_data';\n",
              "        await google.colab.output.renderOutput(dataTable, element);\n",
              "        const docLink = document.createElement('div');\n",
              "        docLink.innerHTML = docLinkHtml;\n",
              "        element.appendChild(docLink);\n",
              "      }\n",
              "    </script>\n",
              "  </div>\n",
              "\n",
              "\n",
              "<div id=\"df-525f6763-6051-40e4-b68f-70763dc36642\">\n",
              "  <button class=\"colab-df-quickchart\" onclick=\"quickchart('df-525f6763-6051-40e4-b68f-70763dc36642')\"\n",
              "            title=\"Suggest charts\"\n",
              "            style=\"display:none;\">\n",
              "\n",
              "<svg xmlns=\"http://www.w3.org/2000/svg\" height=\"24px\"viewBox=\"0 0 24 24\"\n",
              "     width=\"24px\">\n",
              "    <g>\n",
              "        <path d=\"M19 3H5c-1.1 0-2 .9-2 2v14c0 1.1.9 2 2 2h14c1.1 0 2-.9 2-2V5c0-1.1-.9-2-2-2zM9 17H7v-7h2v7zm4 0h-2V7h2v10zm4 0h-2v-4h2v4z\"/>\n",
              "    </g>\n",
              "</svg>\n",
              "  </button>\n",
              "\n",
              "<style>\n",
              "  .colab-df-quickchart {\n",
              "      --bg-color: #E8F0FE;\n",
              "      --fill-color: #1967D2;\n",
              "      --hover-bg-color: #E2EBFA;\n",
              "      --hover-fill-color: #174EA6;\n",
              "      --disabled-fill-color: #AAA;\n",
              "      --disabled-bg-color: #DDD;\n",
              "  }\n",
              "\n",
              "  [theme=dark] .colab-df-quickchart {\n",
              "      --bg-color: #3B4455;\n",
              "      --fill-color: #D2E3FC;\n",
              "      --hover-bg-color: #434B5C;\n",
              "      --hover-fill-color: #FFFFFF;\n",
              "      --disabled-bg-color: #3B4455;\n",
              "      --disabled-fill-color: #666;\n",
              "  }\n",
              "\n",
              "  .colab-df-quickchart {\n",
              "    background-color: var(--bg-color);\n",
              "    border: none;\n",
              "    border-radius: 50%;\n",
              "    cursor: pointer;\n",
              "    display: none;\n",
              "    fill: var(--fill-color);\n",
              "    height: 32px;\n",
              "    padding: 0;\n",
              "    width: 32px;\n",
              "  }\n",
              "\n",
              "  .colab-df-quickchart:hover {\n",
              "    background-color: var(--hover-bg-color);\n",
              "    box-shadow: 0 1px 2px rgba(60, 64, 67, 0.3), 0 1px 3px 1px rgba(60, 64, 67, 0.15);\n",
              "    fill: var(--button-hover-fill-color);\n",
              "  }\n",
              "\n",
              "  .colab-df-quickchart-complete:disabled,\n",
              "  .colab-df-quickchart-complete:disabled:hover {\n",
              "    background-color: var(--disabled-bg-color);\n",
              "    fill: var(--disabled-fill-color);\n",
              "    box-shadow: none;\n",
              "  }\n",
              "\n",
              "  .colab-df-spinner {\n",
              "    border: 2px solid var(--fill-color);\n",
              "    border-color: transparent;\n",
              "    border-bottom-color: var(--fill-color);\n",
              "    animation:\n",
              "      spin 1s steps(1) infinite;\n",
              "  }\n",
              "\n",
              "  @keyframes spin {\n",
              "    0% {\n",
              "      border-color: transparent;\n",
              "      border-bottom-color: var(--fill-color);\n",
              "      border-left-color: var(--fill-color);\n",
              "    }\n",
              "    20% {\n",
              "      border-color: transparent;\n",
              "      border-left-color: var(--fill-color);\n",
              "      border-top-color: var(--fill-color);\n",
              "    }\n",
              "    30% {\n",
              "      border-color: transparent;\n",
              "      border-left-color: var(--fill-color);\n",
              "      border-top-color: var(--fill-color);\n",
              "      border-right-color: var(--fill-color);\n",
              "    }\n",
              "    40% {\n",
              "      border-color: transparent;\n",
              "      border-right-color: var(--fill-color);\n",
              "      border-top-color: var(--fill-color);\n",
              "    }\n",
              "    60% {\n",
              "      border-color: transparent;\n",
              "      border-right-color: var(--fill-color);\n",
              "    }\n",
              "    80% {\n",
              "      border-color: transparent;\n",
              "      border-right-color: var(--fill-color);\n",
              "      border-bottom-color: var(--fill-color);\n",
              "    }\n",
              "    90% {\n",
              "      border-color: transparent;\n",
              "      border-bottom-color: var(--fill-color);\n",
              "    }\n",
              "  }\n",
              "</style>\n",
              "\n",
              "  <script>\n",
              "    async function quickchart(key) {\n",
              "      const quickchartButtonEl =\n",
              "        document.querySelector('#' + key + ' button');\n",
              "      quickchartButtonEl.disabled = true;  // To prevent multiple clicks.\n",
              "      quickchartButtonEl.classList.add('colab-df-spinner');\n",
              "      try {\n",
              "        const charts = await google.colab.kernel.invokeFunction(\n",
              "            'suggestCharts', [key], {});\n",
              "      } catch (error) {\n",
              "        console.error('Error during call to suggestCharts:', error);\n",
              "      }\n",
              "      quickchartButtonEl.classList.remove('colab-df-spinner');\n",
              "      quickchartButtonEl.classList.add('colab-df-quickchart-complete');\n",
              "    }\n",
              "    (() => {\n",
              "      let quickchartButtonEl =\n",
              "        document.querySelector('#df-525f6763-6051-40e4-b68f-70763dc36642 button');\n",
              "      quickchartButtonEl.style.display =\n",
              "        google.colab.kernel.accessAllowed ? 'block' : 'none';\n",
              "    })();\n",
              "  </script>\n",
              "</div>\n",
              "\n",
              "    </div>\n",
              "  </div>\n"
            ],
            "application/vnd.google.colaboratory.intrinsic+json": {
              "type": "dataframe",
              "summary": "{\n  \"name\": \"recomended_movies[['title', 'popularity']]\",\n  \"rows\": 5,\n  \"fields\": [\n    {\n      \"column\": \"title\",\n      \"properties\": {\n        \"dtype\": \"string\",\n        \"num_unique_values\": 5,\n        \"samples\": [\n          \"Pirates of the Caribbean: At World's End\",\n          \"John Carter\",\n          \"Spectre\"\n        ],\n        \"semantic_type\": \"\",\n        \"description\": \"\"\n      }\n    },\n    {\n      \"column\": \"popularity\",\n      \"properties\": {\n        \"dtype\": \"number\",\n        \"std\": 41.40320349262693,\n        \"min\": 43.926995,\n        \"max\": 150.437577,\n        \"num_unique_values\": 5,\n        \"samples\": [\n          139.082615,\n          43.926995,\n          107.376788\n        ],\n        \"semantic_type\": \"\",\n        \"description\": \"\"\n      }\n    }\n  ]\n}"
            }
          },
          "metadata": {},
          "execution_count": 65
        }
      ]
    },
    {
      "cell_type": "markdown",
      "source": [
        "# Content Based Filtering\n",
        "\n",
        "Filtro deacuerdo a la cimilitud de la pelicula."
      ],
      "metadata": {
        "id": "yTSenm9WFhw1"
      }
    },
    {
      "cell_type": "code",
      "source": [
        "from sklearn.feature_extraction.text import TfidfVectorizer\n",
        "from sklearn.metrics.pairwise import linear_kernel\n",
        "# Parse the stringified features into their corresponding python objects\n",
        "from ast import literal_eval"
      ],
      "metadata": {
        "id": "8fg09G9NLZEm"
      },
      "execution_count": null,
      "outputs": []
    },
    {
      "cell_type": "code",
      "source": [
        "db_CBF = db.copy()\n",
        "db_CBF.columns"
      ],
      "metadata": {
        "colab": {
          "base_uri": "https://localhost:8080/"
        },
        "id": "NhZcptaiFm6x",
        "outputId": "243ae783-cba3-4f65-8c1e-822c655600cd"
      },
      "execution_count": null,
      "outputs": [
        {
          "output_type": "execute_result",
          "data": {
            "text/plain": [
              "Index(['budget', 'genres', 'homepage', 'id', 'keywords', 'original_language',\n",
              "       'original_title', 'overview', 'popularity', 'production_companies',\n",
              "       'production_countries', 'release_date', 'revenue', 'runtime',\n",
              "       'spoken_languages', 'status', 'tagline', 'title', 'vote_average',\n",
              "       'vote_count', 'tittle', 'cast', 'crew'],\n",
              "      dtype='object')"
            ]
          },
          "metadata": {},
          "execution_count": 80
        }
      ]
    },
    {
      "cell_type": "code",
      "source": [
        "# Define a TF-IDF Vectorizer Object. Remove all english stop words such as 'the', 'a'\n",
        "tfidf = TfidfVectorizer(stop_words='english')"
      ],
      "metadata": {
        "id": "mvDxf-htLdRd"
      },
      "execution_count": null,
      "outputs": []
    },
    {
      "cell_type": "code",
      "source": [
        "# Replace NaN with an empty string\n",
        "db_CBF['overview'] = db_CBF['overview'].fillna('')"
      ],
      "metadata": {
        "id": "Qs_azJlqL0tN"
      },
      "execution_count": null,
      "outputs": []
    },
    {
      "cell_type": "code",
      "source": [
        "# Construct the required TF-IDF matrix by fitting and transforming the data\n",
        "tfidf_matrix = tfidf.fit_transform(db_CBF['overview'])"
      ],
      "metadata": {
        "id": "kSUNG33RLy3d"
      },
      "execution_count": null,
      "outputs": []
    },
    {
      "cell_type": "code",
      "source": [
        "# Compute the cosine similarity matrix\n",
        "cosine_sim = linear_kernel(tfidf_matrix, tfidf_matrix)"
      ],
      "metadata": {
        "id": "ORtfMyI7P-lR"
      },
      "execution_count": null,
      "outputs": []
    },
    {
      "cell_type": "code",
      "source": [
        "#Construct a reverse map of indices and movie titles\n",
        "indices = pd.Series(db_CBF.index, index=db_CBF['title']).drop_duplicates()"
      ],
      "metadata": {
        "id": "MHdyAiYtXKWj"
      },
      "execution_count": null,
      "outputs": []
    },
    {
      "cell_type": "code",
      "source": [
        "# Function that takes in movie title as input and outputs most similar movies\n",
        "def get_recommendations(title, cosine_sim=cosine_sim):\n",
        "    # Get the index of the movie that matches the title\n",
        "    idx = indices[title]\n",
        "\n",
        "    # Get the pairwsie similarity scores of all movies with that movie\n",
        "    sim_scores = list(enumerate(cosine_sim[idx]))\n",
        "\n",
        "    # Sort the movies based on the similarity scores\n",
        "    sim_scores = sorted(sim_scores, key=lambda x: x[1], reverse=True)\n",
        "\n",
        "    # Get the scores of the 10 most similar movies\n",
        "    sim_scores = sim_scores[1:11]\n",
        "\n",
        "    # Get the movie indices\n",
        "    movie_indices = [i[0] for i in sim_scores]\n",
        "\n",
        "    # Return the top 10 most similar movies\n",
        "    return db_CBF['title'].iloc[movie_indices]"
      ],
      "metadata": {
        "id": "v6_6p718YKoT"
      },
      "execution_count": null,
      "outputs": []
    },
    {
      "cell_type": "code",
      "source": [
        "# Convierte cadenas de texto en estructura de datos si es que la base de datos la posee.\n",
        "features = ['cast', 'crew', 'keywords', 'genres']\n",
        "for feature in features:\n",
        "  db_CBF[feature] = db_CBF[feature].apply(literal_eval)"
      ],
      "metadata": {
        "id": "b8-57lzCmWNJ"
      },
      "execution_count": null,
      "outputs": []
    },
    {
      "cell_type": "code",
      "source": [
        "# Get the director's name from the crew feature. If director is not listed, return NaN\n",
        "def get_director(x):\n",
        "  for i in x:\n",
        "    if i['job'] == 'Director':\n",
        "      return i['name']\n",
        "  return np.nan"
      ],
      "metadata": {
        "id": "OviJr-zGoc0C"
      },
      "execution_count": null,
      "outputs": []
    },
    {
      "cell_type": "code",
      "source": [
        "# Returns the list top 3 elements or entire list; whichever is more.\n",
        "def get_list(x):\n",
        "  if isinstance(x, list):\n",
        "    names = [i['name'] for i in x]\n",
        "    #Check if more than 3 elements exist. If yes, return only first three. If no, return entire list.\n",
        "    if len(names) > 3:\n",
        "      names = names[:3]\n",
        "    return names\n",
        "\n",
        "  #Return empty list in case of missing/malformed data\n",
        "  return []"
      ],
      "metadata": {
        "id": "gscJUffYogmq"
      },
      "execution_count": null,
      "outputs": []
    },
    {
      "cell_type": "code",
      "source": [
        "# Define new director, cast, genres and keywords features that are in a suitable form.\n",
        "db_CBF['director'] = db_CBF['crew'].apply(get_director)\n",
        "\n",
        "features = ['cast', 'keywords', 'genres']\n",
        "for feature in features:\n",
        "  db_CBF[feature] = db_CBF[feature].apply(get_list)"
      ],
      "metadata": {
        "id": "5vvw7BG5ov46"
      },
      "execution_count": null,
      "outputs": []
    },
    {
      "cell_type": "code",
      "source": [
        "# Print the new features of the first 3 films\n",
        "db_CBF[['title', 'cast', 'director', 'keywords', 'genres']].head(3)"
      ],
      "metadata": {
        "colab": {
          "base_uri": "https://localhost:8080/",
          "height": 196
        },
        "id": "CbVVrzcloxNR",
        "outputId": "0d19fb8e-45a2-418a-dd58-c390e415f110"
      },
      "execution_count": null,
      "outputs": [
        {
          "output_type": "execute_result",
          "data": {
            "text/plain": [
              "                                      title  \\\n",
              "0                                    Avatar   \n",
              "1  Pirates of the Caribbean: At World's End   \n",
              "2                                   Spectre   \n",
              "\n",
              "                                               cast        director  \\\n",
              "0  [Sam Worthington, Zoe Saldana, Sigourney Weaver]   James Cameron   \n",
              "1     [Johnny Depp, Orlando Bloom, Keira Knightley]  Gore Verbinski   \n",
              "2      [Daniel Craig, Christoph Waltz, Léa Seydoux]      Sam Mendes   \n",
              "\n",
              "                              keywords                        genres  \n",
              "0   [culture clash, future, space war]  [Action, Adventure, Fantasy]  \n",
              "1   [ocean, drug abuse, exotic island]  [Adventure, Fantasy, Action]  \n",
              "2  [spy, based on novel, secret agent]    [Action, Adventure, Crime]  "
            ],
            "text/html": [
              "\n",
              "  <div id=\"df-a3d875fb-d5f1-47e8-8e62-67358ac40da8\" class=\"colab-df-container\">\n",
              "    <div>\n",
              "<style scoped>\n",
              "    .dataframe tbody tr th:only-of-type {\n",
              "        vertical-align: middle;\n",
              "    }\n",
              "\n",
              "    .dataframe tbody tr th {\n",
              "        vertical-align: top;\n",
              "    }\n",
              "\n",
              "    .dataframe thead th {\n",
              "        text-align: right;\n",
              "    }\n",
              "</style>\n",
              "<table border=\"1\" class=\"dataframe\">\n",
              "  <thead>\n",
              "    <tr style=\"text-align: right;\">\n",
              "      <th></th>\n",
              "      <th>title</th>\n",
              "      <th>cast</th>\n",
              "      <th>director</th>\n",
              "      <th>keywords</th>\n",
              "      <th>genres</th>\n",
              "    </tr>\n",
              "  </thead>\n",
              "  <tbody>\n",
              "    <tr>\n",
              "      <th>0</th>\n",
              "      <td>Avatar</td>\n",
              "      <td>[Sam Worthington, Zoe Saldana, Sigourney Weaver]</td>\n",
              "      <td>James Cameron</td>\n",
              "      <td>[culture clash, future, space war]</td>\n",
              "      <td>[Action, Adventure, Fantasy]</td>\n",
              "    </tr>\n",
              "    <tr>\n",
              "      <th>1</th>\n",
              "      <td>Pirates of the Caribbean: At World's End</td>\n",
              "      <td>[Johnny Depp, Orlando Bloom, Keira Knightley]</td>\n",
              "      <td>Gore Verbinski</td>\n",
              "      <td>[ocean, drug abuse, exotic island]</td>\n",
              "      <td>[Adventure, Fantasy, Action]</td>\n",
              "    </tr>\n",
              "    <tr>\n",
              "      <th>2</th>\n",
              "      <td>Spectre</td>\n",
              "      <td>[Daniel Craig, Christoph Waltz, Léa Seydoux]</td>\n",
              "      <td>Sam Mendes</td>\n",
              "      <td>[spy, based on novel, secret agent]</td>\n",
              "      <td>[Action, Adventure, Crime]</td>\n",
              "    </tr>\n",
              "  </tbody>\n",
              "</table>\n",
              "</div>\n",
              "    <div class=\"colab-df-buttons\">\n",
              "\n",
              "  <div class=\"colab-df-container\">\n",
              "    <button class=\"colab-df-convert\" onclick=\"convertToInteractive('df-a3d875fb-d5f1-47e8-8e62-67358ac40da8')\"\n",
              "            title=\"Convert this dataframe to an interactive table.\"\n",
              "            style=\"display:none;\">\n",
              "\n",
              "  <svg xmlns=\"http://www.w3.org/2000/svg\" height=\"24px\" viewBox=\"0 -960 960 960\">\n",
              "    <path d=\"M120-120v-720h720v720H120Zm60-500h600v-160H180v160Zm220 220h160v-160H400v160Zm0 220h160v-160H400v160ZM180-400h160v-160H180v160Zm440 0h160v-160H620v160ZM180-180h160v-160H180v160Zm440 0h160v-160H620v160Z\"/>\n",
              "  </svg>\n",
              "    </button>\n",
              "\n",
              "  <style>\n",
              "    .colab-df-container {\n",
              "      display:flex;\n",
              "      gap: 12px;\n",
              "    }\n",
              "\n",
              "    .colab-df-convert {\n",
              "      background-color: #E8F0FE;\n",
              "      border: none;\n",
              "      border-radius: 50%;\n",
              "      cursor: pointer;\n",
              "      display: none;\n",
              "      fill: #1967D2;\n",
              "      height: 32px;\n",
              "      padding: 0 0 0 0;\n",
              "      width: 32px;\n",
              "    }\n",
              "\n",
              "    .colab-df-convert:hover {\n",
              "      background-color: #E2EBFA;\n",
              "      box-shadow: 0px 1px 2px rgba(60, 64, 67, 0.3), 0px 1px 3px 1px rgba(60, 64, 67, 0.15);\n",
              "      fill: #174EA6;\n",
              "    }\n",
              "\n",
              "    .colab-df-buttons div {\n",
              "      margin-bottom: 4px;\n",
              "    }\n",
              "\n",
              "    [theme=dark] .colab-df-convert {\n",
              "      background-color: #3B4455;\n",
              "      fill: #D2E3FC;\n",
              "    }\n",
              "\n",
              "    [theme=dark] .colab-df-convert:hover {\n",
              "      background-color: #434B5C;\n",
              "      box-shadow: 0px 1px 3px 1px rgba(0, 0, 0, 0.15);\n",
              "      filter: drop-shadow(0px 1px 2px rgba(0, 0, 0, 0.3));\n",
              "      fill: #FFFFFF;\n",
              "    }\n",
              "  </style>\n",
              "\n",
              "    <script>\n",
              "      const buttonEl =\n",
              "        document.querySelector('#df-a3d875fb-d5f1-47e8-8e62-67358ac40da8 button.colab-df-convert');\n",
              "      buttonEl.style.display =\n",
              "        google.colab.kernel.accessAllowed ? 'block' : 'none';\n",
              "\n",
              "      async function convertToInteractive(key) {\n",
              "        const element = document.querySelector('#df-a3d875fb-d5f1-47e8-8e62-67358ac40da8');\n",
              "        const dataTable =\n",
              "          await google.colab.kernel.invokeFunction('convertToInteractive',\n",
              "                                                    [key], {});\n",
              "        if (!dataTable) return;\n",
              "\n",
              "        const docLinkHtml = 'Like what you see? Visit the ' +\n",
              "          '<a target=\"_blank\" href=https://colab.research.google.com/notebooks/data_table.ipynb>data table notebook</a>'\n",
              "          + ' to learn more about interactive tables.';\n",
              "        element.innerHTML = '';\n",
              "        dataTable['output_type'] = 'display_data';\n",
              "        await google.colab.output.renderOutput(dataTable, element);\n",
              "        const docLink = document.createElement('div');\n",
              "        docLink.innerHTML = docLinkHtml;\n",
              "        element.appendChild(docLink);\n",
              "      }\n",
              "    </script>\n",
              "  </div>\n",
              "\n",
              "\n",
              "<div id=\"df-faa586bc-918c-42a9-ae12-dcf78d8f1580\">\n",
              "  <button class=\"colab-df-quickchart\" onclick=\"quickchart('df-faa586bc-918c-42a9-ae12-dcf78d8f1580')\"\n",
              "            title=\"Suggest charts\"\n",
              "            style=\"display:none;\">\n",
              "\n",
              "<svg xmlns=\"http://www.w3.org/2000/svg\" height=\"24px\"viewBox=\"0 0 24 24\"\n",
              "     width=\"24px\">\n",
              "    <g>\n",
              "        <path d=\"M19 3H5c-1.1 0-2 .9-2 2v14c0 1.1.9 2 2 2h14c1.1 0 2-.9 2-2V5c0-1.1-.9-2-2-2zM9 17H7v-7h2v7zm4 0h-2V7h2v10zm4 0h-2v-4h2v4z\"/>\n",
              "    </g>\n",
              "</svg>\n",
              "  </button>\n",
              "\n",
              "<style>\n",
              "  .colab-df-quickchart {\n",
              "      --bg-color: #E8F0FE;\n",
              "      --fill-color: #1967D2;\n",
              "      --hover-bg-color: #E2EBFA;\n",
              "      --hover-fill-color: #174EA6;\n",
              "      --disabled-fill-color: #AAA;\n",
              "      --disabled-bg-color: #DDD;\n",
              "  }\n",
              "\n",
              "  [theme=dark] .colab-df-quickchart {\n",
              "      --bg-color: #3B4455;\n",
              "      --fill-color: #D2E3FC;\n",
              "      --hover-bg-color: #434B5C;\n",
              "      --hover-fill-color: #FFFFFF;\n",
              "      --disabled-bg-color: #3B4455;\n",
              "      --disabled-fill-color: #666;\n",
              "  }\n",
              "\n",
              "  .colab-df-quickchart {\n",
              "    background-color: var(--bg-color);\n",
              "    border: none;\n",
              "    border-radius: 50%;\n",
              "    cursor: pointer;\n",
              "    display: none;\n",
              "    fill: var(--fill-color);\n",
              "    height: 32px;\n",
              "    padding: 0;\n",
              "    width: 32px;\n",
              "  }\n",
              "\n",
              "  .colab-df-quickchart:hover {\n",
              "    background-color: var(--hover-bg-color);\n",
              "    box-shadow: 0 1px 2px rgba(60, 64, 67, 0.3), 0 1px 3px 1px rgba(60, 64, 67, 0.15);\n",
              "    fill: var(--button-hover-fill-color);\n",
              "  }\n",
              "\n",
              "  .colab-df-quickchart-complete:disabled,\n",
              "  .colab-df-quickchart-complete:disabled:hover {\n",
              "    background-color: var(--disabled-bg-color);\n",
              "    fill: var(--disabled-fill-color);\n",
              "    box-shadow: none;\n",
              "  }\n",
              "\n",
              "  .colab-df-spinner {\n",
              "    border: 2px solid var(--fill-color);\n",
              "    border-color: transparent;\n",
              "    border-bottom-color: var(--fill-color);\n",
              "    animation:\n",
              "      spin 1s steps(1) infinite;\n",
              "  }\n",
              "\n",
              "  @keyframes spin {\n",
              "    0% {\n",
              "      border-color: transparent;\n",
              "      border-bottom-color: var(--fill-color);\n",
              "      border-left-color: var(--fill-color);\n",
              "    }\n",
              "    20% {\n",
              "      border-color: transparent;\n",
              "      border-left-color: var(--fill-color);\n",
              "      border-top-color: var(--fill-color);\n",
              "    }\n",
              "    30% {\n",
              "      border-color: transparent;\n",
              "      border-left-color: var(--fill-color);\n",
              "      border-top-color: var(--fill-color);\n",
              "      border-right-color: var(--fill-color);\n",
              "    }\n",
              "    40% {\n",
              "      border-color: transparent;\n",
              "      border-right-color: var(--fill-color);\n",
              "      border-top-color: var(--fill-color);\n",
              "    }\n",
              "    60% {\n",
              "      border-color: transparent;\n",
              "      border-right-color: var(--fill-color);\n",
              "    }\n",
              "    80% {\n",
              "      border-color: transparent;\n",
              "      border-right-color: var(--fill-color);\n",
              "      border-bottom-color: var(--fill-color);\n",
              "    }\n",
              "    90% {\n",
              "      border-color: transparent;\n",
              "      border-bottom-color: var(--fill-color);\n",
              "    }\n",
              "  }\n",
              "</style>\n",
              "\n",
              "  <script>\n",
              "    async function quickchart(key) {\n",
              "      const quickchartButtonEl =\n",
              "        document.querySelector('#' + key + ' button');\n",
              "      quickchartButtonEl.disabled = true;  // To prevent multiple clicks.\n",
              "      quickchartButtonEl.classList.add('colab-df-spinner');\n",
              "      try {\n",
              "        const charts = await google.colab.kernel.invokeFunction(\n",
              "            'suggestCharts', [key], {});\n",
              "      } catch (error) {\n",
              "        console.error('Error during call to suggestCharts:', error);\n",
              "      }\n",
              "      quickchartButtonEl.classList.remove('colab-df-spinner');\n",
              "      quickchartButtonEl.classList.add('colab-df-quickchart-complete');\n",
              "    }\n",
              "    (() => {\n",
              "      let quickchartButtonEl =\n",
              "        document.querySelector('#df-faa586bc-918c-42a9-ae12-dcf78d8f1580 button');\n",
              "      quickchartButtonEl.style.display =\n",
              "        google.colab.kernel.accessAllowed ? 'block' : 'none';\n",
              "    })();\n",
              "  </script>\n",
              "</div>\n",
              "\n",
              "    </div>\n",
              "  </div>\n"
            ],
            "application/vnd.google.colaboratory.intrinsic+json": {
              "type": "dataframe",
              "summary": "{\n  \"name\": \"db_CBF[['title', 'cast', 'director', 'keywords', 'genres']]\",\n  \"rows\": 3,\n  \"fields\": [\n    {\n      \"column\": \"title\",\n      \"properties\": {\n        \"dtype\": \"string\",\n        \"num_unique_values\": 3,\n        \"samples\": [\n          \"Avatar\",\n          \"Pirates of the Caribbean: At World's End\",\n          \"Spectre\"\n        ],\n        \"semantic_type\": \"\",\n        \"description\": \"\"\n      }\n    },\n    {\n      \"column\": \"cast\",\n      \"properties\": {\n        \"dtype\": \"object\",\n        \"semantic_type\": \"\",\n        \"description\": \"\"\n      }\n    },\n    {\n      \"column\": \"director\",\n      \"properties\": {\n        \"dtype\": \"string\",\n        \"num_unique_values\": 3,\n        \"samples\": [\n          \"James Cameron\",\n          \"Gore Verbinski\",\n          \"Sam Mendes\"\n        ],\n        \"semantic_type\": \"\",\n        \"description\": \"\"\n      }\n    },\n    {\n      \"column\": \"keywords\",\n      \"properties\": {\n        \"dtype\": \"object\",\n        \"semantic_type\": \"\",\n        \"description\": \"\"\n      }\n    },\n    {\n      \"column\": \"genres\",\n      \"properties\": {\n        \"dtype\": \"object\",\n        \"semantic_type\": \"\",\n        \"description\": \"\"\n      }\n    }\n  ]\n}"
            }
          },
          "metadata": {},
          "execution_count": 168
        }
      ]
    },
    {
      "cell_type": "code",
      "source": [
        "# Function to convert all strings to lower case and strip names of spaces\n",
        "def clean_data(x):\n",
        "  if isinstance(x, list):\n",
        "    return [str.lower(i.replace(\" \", \"\")) for i in x]\n",
        "  else:\n",
        "    #Check if director exists. If not, return empty string\n",
        "    if isinstance(x, str):\n",
        "      return str.lower(x.replace(\" \", \"\"))\n",
        "    else:\n",
        "      return ''"
      ],
      "metadata": {
        "id": "mfJMagprs75t"
      },
      "execution_count": null,
      "outputs": []
    },
    {
      "cell_type": "code",
      "source": [
        "# Apply clean_data function to your features.\n",
        "features = ['cast', 'keywords', 'director', 'genres']\n",
        "\n",
        "for feature in features:\n",
        "  db_CBF[feature] = db_CBF[feature].apply(clean_data)"
      ],
      "metadata": {
        "id": "cpH5H3q6tA0h"
      },
      "execution_count": null,
      "outputs": []
    },
    {
      "cell_type": "code",
      "source": [
        "def create_soup(x):\n",
        "    return ' '.join(x['keywords']) + ' ' + ' '.join(x['cast']) + ' ' + x['director'] + ' ' + ' '.join(x['genres'])\n",
        "db_CBF['soup'] = db_CBF.apply(create_soup, axis=1)"
      ],
      "metadata": {
        "id": "G2B3wO1NuE6K"
      },
      "execution_count": null,
      "outputs": []
    },
    {
      "cell_type": "code",
      "source": [
        "# Import CountVectorizer and create the count matrix\n",
        "from sklearn.feature_extraction.text import CountVectorizer\n",
        "\n",
        "count = CountVectorizer(stop_words='english')\n",
        "count_matrix = count.fit_transform(db_CBF['soup'])"
      ],
      "metadata": {
        "id": "tFQMfSeFuKCh"
      },
      "execution_count": null,
      "outputs": []
    },
    {
      "cell_type": "code",
      "source": [
        "# Compute the Cosine Similarity matrix based on the count_matrix\n",
        "from sklearn.metrics.pairwise import cosine_similarity\n",
        "\n",
        "cosine_sim2 = cosine_similarity(count_matrix, count_matrix)"
      ],
      "metadata": {
        "id": "9OKlVi_HuRQB"
      },
      "execution_count": null,
      "outputs": []
    },
    {
      "cell_type": "code",
      "source": [
        "# Reset index of our main DataFrame and construct reverse mapping as before\n",
        "db_CBF = db_CBF.reset_index()\n",
        "indices = pd.Series(db_CBF.index, index=db_CBF['title'])"
      ],
      "metadata": {
        "id": "FtVwxK_OuTGY"
      },
      "execution_count": null,
      "outputs": []
    },
    {
      "cell_type": "code",
      "source": [
        "get_recommendations('The Dark Knight Rises', cosine_sim2)"
      ],
      "metadata": {
        "colab": {
          "base_uri": "https://localhost:8080/"
        },
        "id": "qac-lWCPuUkI",
        "outputId": "2df4e351-add6-4121-b103-e9027e544412"
      },
      "execution_count": null,
      "outputs": [
        {
          "output_type": "execute_result",
          "data": {
            "text/plain": [
              "65               The Dark Knight\n",
              "119                Batman Begins\n",
              "4638    Amidst the Devil's Wings\n",
              "1196                The Prestige\n",
              "3073           Romeo Is Bleeding\n",
              "3326              Black November\n",
              "1503                      Takers\n",
              "1986                      Faster\n",
              "303                     Catwoman\n",
              "747               Gangster Squad\n",
              "Name: title, dtype: object"
            ]
          },
          "metadata": {},
          "execution_count": 184
        }
      ]
    }
  ]
}