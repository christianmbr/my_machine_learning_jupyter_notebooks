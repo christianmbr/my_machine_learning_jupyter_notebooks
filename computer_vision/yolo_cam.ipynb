{
 "cells": [
  {
   "attachments": {},
   "cell_type": "markdown",
   "metadata": {},
   "source": [
    "This script detects camera objects using Yolov8. After 20 seconds or after a key press the last frame is saved locally."
   ]
  },
  {
   "attachments": {},
   "cell_type": "markdown",
   "metadata": {},
   "source": [
    "In case of using Yolov8 in google colab\n",
    "\n",
    "[Google yolo tutorial](https://colab.research.google.com/github/ultralytics/ultralytics/blob/main/examples/tutorial.ipynb#scrollTo=zR9ZbuQCH7FX)\n",
    "\n",
    "```python\n",
    "%pip install ultralytics\n",
    "%pip install cvzone\n",
    "import ultralytics\n",
    "ultralytics.checks()\n",
    "```"
   ]
  },
  {
   "cell_type": "code",
   "execution_count": 1,
   "metadata": {},
   "outputs": [],
   "source": [
    "from ultralytics import YOLO\n",
    "import cvzone\n",
    "import time\n",
    "import math\n",
    "import cv2"
   ]
  },
  {
   "cell_type": "code",
   "execution_count": 2,
   "metadata": {},
   "outputs": [],
   "source": [
    "model = YOLO('./yolo_results/yolov8n.pt')\n",
    "class_names = model.names"
   ]
  },
  {
   "cell_type": "code",
   "execution_count": null,
   "metadata": {},
   "outputs": [],
   "source": [
    "# Camera configuration.\n",
    "# width and height depends of the quality of your cam and cpu. I'ts up to you to choose w n h.\n",
    "cam = cv2.VideoCapture(0)\n",
    "cam.set(3, 640) # width.\n",
    "cam.set(4, 480) # Height.\n",
    "\n",
    "time_limit = 20 # 20 seconds\n",
    "inicial_time = time.time()\n",
    "\n",
    "while True:\n",
    "    success, img = cam.read()\n",
    "    results = model(img, stream=True)\n",
    "\n",
    "    for result in results:\n",
    "        boxes = result.boxes\n",
    "\n",
    "        for box in boxes:\n",
    "            x1, y1, x2, y2 = box.xyxy[0]\n",
    "            x1, y1, x2, y2 = int(x1), int(y1), int(x2), int(y2)\n",
    "            # cv2.rectangle(img, (x1, y1), (x2, y2), (255, 0,0), 3) # Con cv2.\n",
    "            cvzone.cornerRect(img, (x1, y1, x2-x1, y2-y1), t=2, colorC=(255, 0, 0), colorR=(255, 0, 0))\n",
    "\n",
    "            conf = math.ceil((box.conf[0]*100))/100\n",
    "            cls = int(box.cls[0])\n",
    "\n",
    "            cvzone.putTextRect(img,f'{class_names[cls]} {conf}', (x1, y1), scale=1.5, thickness=2, colorR=(255, 0, 0))\n",
    "\n",
    "    cv2.imshow('image', img)\n",
    "\n",
    "    time_elapsed = time.time() - inicial_time\n",
    "    if cv2.waitKey(1) != -1 or time_elapsed >= time_limit:\n",
    "        cv2.imwrite('screenshot.jpg', img)\n",
    "        break\n",
    "    \n",
    "\n",
    "# Destruye las ventanas y libera la camara.\n",
    "cam.release()\n",
    "cv2.destroyAllWindows()"
   ]
  }
 ],
 "metadata": {
  "kernelspec": {
   "display_name": "Python 3",
   "language": "python",
   "name": "python3"
  },
  "language_info": {
   "codemirror_mode": {
    "name": "ipython",
    "version": 3
   },
   "file_extension": ".py",
   "mimetype": "text/x-python",
   "name": "python",
   "nbconvert_exporter": "python",
   "pygments_lexer": "ipython3",
   "version": "3.10.6"
  },
  "orig_nbformat": 4
 },
 "nbformat": 4,
 "nbformat_minor": 2
}
