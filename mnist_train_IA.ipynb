{
 "cells": [
  {
   "attachments": {},
   "cell_type": "markdown",
   "metadata": {},
   "source": [
    "Code writer: [Christian Benitez](https://github.com/christianmbr)."
   ]
  },
  {
   "cell_type": "code",
   "execution_count": 154,
   "metadata": {},
   "outputs": [],
   "source": [
    "import pandas as pd\n",
    "import numpy as np\n",
    "import cv2\n",
    "import matplotlib.pyplot as plt\n",
    "\n",
    "from tensorflow.keras.models import Sequential\n",
    "from tensorflow.keras.layers import Dense\n",
    "from tensorflow.keras.utils import to_categorical"
   ]
  },
  {
   "attachments": {},
   "cell_type": "markdown",
   "metadata": {},
   "source": [
    "# Preparing the data"
   ]
  },
  {
   "cell_type": "code",
   "execution_count": 155,
   "metadata": {},
   "outputs": [],
   "source": [
    "# Loading the database.\n",
    "path = './data_bases/mnist_train.csv'\n",
    "db = pd.read_csv(path, header=None)"
   ]
  },
  {
   "cell_type": "code",
   "execution_count": 156,
   "metadata": {},
   "outputs": [],
   "source": [
    "# Extracting and binarizing targets.\n",
    "target = db.pop(0)\n",
    "binarized_target = to_categorical(target, num_classes=10)"
   ]
  },
  {
   "cell_type": "code",
   "execution_count": 157,
   "metadata": {},
   "outputs": [
    {
     "data": {
      "text/plain": [
       "array([0, 1, 2, 3, 4, 5, 6, 7, 8, 9])"
      ]
     },
     "execution_count": 157,
     "metadata": {},
     "output_type": "execute_result"
    }
   ],
   "source": [
    "# All the unique targets of the data set.\n",
    "np.sort(target.unique())"
   ]
  },
  {
   "cell_type": "code",
   "execution_count": 158,
   "metadata": {},
   "outputs": [
    {
     "data": {
      "text/html": [
       "<div>\n",
       "<style scoped>\n",
       "    .dataframe tbody tr th:only-of-type {\n",
       "        vertical-align: middle;\n",
       "    }\n",
       "\n",
       "    .dataframe tbody tr th {\n",
       "        vertical-align: top;\n",
       "    }\n",
       "\n",
       "    .dataframe thead th {\n",
       "        text-align: right;\n",
       "    }\n",
       "</style>\n",
       "<table border=\"1\" class=\"dataframe\">\n",
       "  <thead>\n",
       "    <tr style=\"text-align: right;\">\n",
       "      <th></th>\n",
       "      <th>1</th>\n",
       "      <th>2</th>\n",
       "      <th>3</th>\n",
       "      <th>4</th>\n",
       "      <th>5</th>\n",
       "      <th>6</th>\n",
       "      <th>7</th>\n",
       "      <th>8</th>\n",
       "      <th>9</th>\n",
       "      <th>10</th>\n",
       "      <th>...</th>\n",
       "      <th>775</th>\n",
       "      <th>776</th>\n",
       "      <th>777</th>\n",
       "      <th>778</th>\n",
       "      <th>779</th>\n",
       "      <th>780</th>\n",
       "      <th>781</th>\n",
       "      <th>782</th>\n",
       "      <th>783</th>\n",
       "      <th>784</th>\n",
       "    </tr>\n",
       "  </thead>\n",
       "  <tbody>\n",
       "    <tr>\n",
       "      <th>0</th>\n",
       "      <td>0</td>\n",
       "      <td>0</td>\n",
       "      <td>0</td>\n",
       "      <td>0</td>\n",
       "      <td>0</td>\n",
       "      <td>0</td>\n",
       "      <td>0</td>\n",
       "      <td>0</td>\n",
       "      <td>0</td>\n",
       "      <td>0</td>\n",
       "      <td>...</td>\n",
       "      <td>0</td>\n",
       "      <td>0</td>\n",
       "      <td>0</td>\n",
       "      <td>0</td>\n",
       "      <td>0</td>\n",
       "      <td>0</td>\n",
       "      <td>0</td>\n",
       "      <td>0</td>\n",
       "      <td>0</td>\n",
       "      <td>0</td>\n",
       "    </tr>\n",
       "    <tr>\n",
       "      <th>1</th>\n",
       "      <td>0</td>\n",
       "      <td>0</td>\n",
       "      <td>0</td>\n",
       "      <td>0</td>\n",
       "      <td>0</td>\n",
       "      <td>0</td>\n",
       "      <td>0</td>\n",
       "      <td>0</td>\n",
       "      <td>0</td>\n",
       "      <td>0</td>\n",
       "      <td>...</td>\n",
       "      <td>0</td>\n",
       "      <td>0</td>\n",
       "      <td>0</td>\n",
       "      <td>0</td>\n",
       "      <td>0</td>\n",
       "      <td>0</td>\n",
       "      <td>0</td>\n",
       "      <td>0</td>\n",
       "      <td>0</td>\n",
       "      <td>0</td>\n",
       "    </tr>\n",
       "    <tr>\n",
       "      <th>2</th>\n",
       "      <td>0</td>\n",
       "      <td>0</td>\n",
       "      <td>0</td>\n",
       "      <td>0</td>\n",
       "      <td>0</td>\n",
       "      <td>0</td>\n",
       "      <td>0</td>\n",
       "      <td>0</td>\n",
       "      <td>0</td>\n",
       "      <td>0</td>\n",
       "      <td>...</td>\n",
       "      <td>0</td>\n",
       "      <td>0</td>\n",
       "      <td>0</td>\n",
       "      <td>0</td>\n",
       "      <td>0</td>\n",
       "      <td>0</td>\n",
       "      <td>0</td>\n",
       "      <td>0</td>\n",
       "      <td>0</td>\n",
       "      <td>0</td>\n",
       "    </tr>\n",
       "    <tr>\n",
       "      <th>3</th>\n",
       "      <td>0</td>\n",
       "      <td>0</td>\n",
       "      <td>0</td>\n",
       "      <td>0</td>\n",
       "      <td>0</td>\n",
       "      <td>0</td>\n",
       "      <td>0</td>\n",
       "      <td>0</td>\n",
       "      <td>0</td>\n",
       "      <td>0</td>\n",
       "      <td>...</td>\n",
       "      <td>0</td>\n",
       "      <td>0</td>\n",
       "      <td>0</td>\n",
       "      <td>0</td>\n",
       "      <td>0</td>\n",
       "      <td>0</td>\n",
       "      <td>0</td>\n",
       "      <td>0</td>\n",
       "      <td>0</td>\n",
       "      <td>0</td>\n",
       "    </tr>\n",
       "    <tr>\n",
       "      <th>4</th>\n",
       "      <td>0</td>\n",
       "      <td>0</td>\n",
       "      <td>0</td>\n",
       "      <td>0</td>\n",
       "      <td>0</td>\n",
       "      <td>0</td>\n",
       "      <td>0</td>\n",
       "      <td>0</td>\n",
       "      <td>0</td>\n",
       "      <td>0</td>\n",
       "      <td>...</td>\n",
       "      <td>0</td>\n",
       "      <td>0</td>\n",
       "      <td>0</td>\n",
       "      <td>0</td>\n",
       "      <td>0</td>\n",
       "      <td>0</td>\n",
       "      <td>0</td>\n",
       "      <td>0</td>\n",
       "      <td>0</td>\n",
       "      <td>0</td>\n",
       "    </tr>\n",
       "  </tbody>\n",
       "</table>\n",
       "<p>5 rows × 784 columns</p>\n",
       "</div>"
      ],
      "text/plain": [
       "   1    2    3    4    5    6    7    8    9    10   ...  775  776  777  778   \n",
       "0    0    0    0    0    0    0    0    0    0    0  ...    0    0    0    0  \\\n",
       "1    0    0    0    0    0    0    0    0    0    0  ...    0    0    0    0   \n",
       "2    0    0    0    0    0    0    0    0    0    0  ...    0    0    0    0   \n",
       "3    0    0    0    0    0    0    0    0    0    0  ...    0    0    0    0   \n",
       "4    0    0    0    0    0    0    0    0    0    0  ...    0    0    0    0   \n",
       "\n",
       "   779  780  781  782  783  784  \n",
       "0    0    0    0    0    0    0  \n",
       "1    0    0    0    0    0    0  \n",
       "2    0    0    0    0    0    0  \n",
       "3    0    0    0    0    0    0  \n",
       "4    0    0    0    0    0    0  \n",
       "\n",
       "[5 rows x 784 columns]"
      ]
     },
     "execution_count": 158,
     "metadata": {},
     "output_type": "execute_result"
    }
   ],
   "source": [
    "# The first five letters of the database.\n",
    "db.head()"
   ]
  },
  {
   "cell_type": "code",
   "execution_count": 181,
   "metadata": {},
   "outputs": [
    {
     "data": {
      "text/plain": [
       "(60000, 28, 28)"
      ]
     },
     "execution_count": 181,
     "metadata": {},
     "output_type": "execute_result"
    }
   ],
   "source": [
    "# Reshaping all numbers of the data set to their original size.\n",
    "images = db.values.reshape(-1, 28, 28)\n",
    "images.shape"
   ]
  },
  {
   "cell_type": "code",
   "execution_count": 191,
   "metadata": {},
   "outputs": [],
   "source": [
    "# Function to print the first 25 images.\n",
    "def print_letters(images, shape=(5,5), size=(10,10)):\n",
    "  _, axe = plt.subplots(shape[0], shape[1], figsize=size)\n",
    "  axe = axe.flatten()\n",
    "\n",
    "  for i in range(shape[0]*shape[1]):\n",
    "    axe[i].imshow(images[i], cmap='gray')\n",
    "    axe[i].set_xticks([])\n",
    "    axe[i].set_yticks([])"
   ]
  },
  {
   "cell_type": "code",
   "execution_count": 162,
   "metadata": {},
   "outputs": [],
   "source": [
    "# Function for applying a threshold to images.\n",
    "def binarize_numpy_array(images, thresh = 1):\n",
    "  img = images.copy()\n",
    "  for i, image in enumerate(img):\n",
    "    image_scaled = cv2.convertScaleAbs(image)\n",
    "    _, img[i] = cv2.threshold(image_scaled, thresh, 255, cv2.THRESH_BINARY)\n",
    "  return img"
   ]
  },
  {
   "cell_type": "code",
   "execution_count": 185,
   "metadata": {},
   "outputs": [],
   "source": [
    "ready_to_train = binarize_numpy_array(images, thresh = 1)"
   ]
  },
  {
   "cell_type": "code",
   "execution_count": 186,
   "metadata": {},
   "outputs": [
    {
     "data": {
      "image/png": "[encoded data removed]",
      "text/plain": [
       "<Figure size 1000x1000 with 25 Axes>"
      ]
     },
     "metadata": {},
     "output_type": "display_data"
    }
   ],
   "source": [
    "# Binarized images.\n",
    "print_letters(ready_to_train)"
   ]
  },
  {
   "cell_type": "code",
   "execution_count": 165,
   "metadata": {},
   "outputs": [
    {
     "data": {
      "image/png": "[encoded data removed]",
      "text/plain": [
       "<Figure size 1000x1000 with 25 Axes>"
      ]
     },
     "metadata": {},
     "output_type": "display_data"
    }
   ],
   "source": [
    "# Original images.\n",
    "print_letters(images)"
   ]
  },
  {
   "cell_type": "code",
   "execution_count": 166,
   "metadata": {},
   "outputs": [],
   "source": [
    "# Flattening all images and nornalize.\n",
    "ready_to_train = ready_to_train.reshape([-1, 28*28])\n",
    "ready_to_train = ready_to_train / 255"
   ]
  },
  {
   "attachments": {},
   "cell_type": "markdown",
   "metadata": {},
   "source": [
    "# Creating the artificial neuronal network. "
   ]
  },
  {
   "cell_type": "code",
   "execution_count": 167,
   "metadata": {},
   "outputs": [],
   "source": [
    "# Artificial neuronal network (ann).\n",
    "# Creating ann.\n",
    "ann = Sequential()\n",
    "ann.add(Dense(200, input_shape = (28*28,), activation = 'tanh'))\n",
    "ann.add(Dense(150, activation = 'tanh'))\n",
    "ann.add(Dense(10, activation = 'softmax'))\n",
    "\n",
    "# Configure ann.\n",
    "ann.compile(loss = 'mae', metrics = ['accuracy'])\n",
    "\n",
    "# optimizer = 'adam'\n",
    "# mean absolute error (mae). Se utiliza para medir la diferencia entre las predicciones del modelo y los valores reales de la variable objetivo en el conjunto de datos de entrenamiento.\n",
    "# Optimizer adam. Ajustar los parámetros del modelo de manera eficiente y efectiva para minimizar la función de pérdida.\n",
    "# Softmax. utilizada en la última capa de una red neuronal para problemas de clasificación multiclase."
   ]
  },
  {
   "attachments": {},
   "cell_type": "markdown",
   "metadata": {},
   "source": [
    "A neural network with 784 inputs, a layer of 200 neurons, a layer of 150 neurons and an output of 10 neurons."
   ]
  },
  {
   "attachments": {},
   "cell_type": "markdown",
   "metadata": {},
   "source": [
    "Training neuronal network"
   ]
  },
  {
   "cell_type": "code",
   "execution_count": 178,
   "metadata": {},
   "outputs": [
    {
     "data": {
      "text/plain": [
       "(60000, 784)"
      ]
     },
     "execution_count": 178,
     "metadata": {},
     "output_type": "execute_result"
    }
   ],
   "source": [
    "# The size of all prepared images.\n",
    "# 60000 images and 784 features(pixels).\n",
    "ready_to_train.shape"
   ]
  },
  {
   "cell_type": "code",
   "execution_count": 168,
   "metadata": {},
   "outputs": [
    {
     "name": "stdout",
     "output_type": "stream",
     "text": [
      "Epoch 1/100\n"
     ]
    },
    {
     "name": "stderr",
     "output_type": "stream",
     "text": [
      "2023-05-13 22:30:55.999604: W tensorflow/tsl/framework/cpu_allocator_impl.cc:83] Allocation of 169344000 exceeds 10% of free system memory.\n"
     ]
    },
    {
     "name": "stdout",
     "output_type": "stream",
     "text": [
      "540/540 [==============================] - 4s 6ms/step - loss: 0.0356 - accuracy: 0.8511 - val_loss: 0.0166 - val_accuracy: 0.9268\n",
      "Epoch 2/100\n",
      "540/540 [==============================] - 3s 6ms/step - loss: 0.0170 - accuracy: 0.9257 - val_loss: 0.0124 - val_accuracy: 0.9470\n",
      "Epoch 3/100\n",
      "540/540 [==============================] - 3s 5ms/step - loss: 0.0132 - accuracy: 0.9417 - val_loss: 0.0099 - val_accuracy: 0.9560\n",
      "Epoch 4/100\n",
      "540/540 [==============================] - 3s 6ms/step - loss: 0.0109 - accuracy: 0.9519 - val_loss: 0.0095 - val_accuracy: 0.9567\n",
      "Epoch 5/100\n",
      "540/540 [==============================] - 3s 5ms/step - loss: 0.0094 - accuracy: 0.9583 - val_loss: 0.0080 - val_accuracy: 0.9637\n",
      "Epoch 6/100\n",
      "540/540 [==============================] - 2s 5ms/step - loss: 0.0082 - accuracy: 0.9634 - val_loss: 0.0073 - val_accuracy: 0.9663\n",
      "Epoch 7/100\n",
      "540/540 [==============================] - 3s 5ms/step - loss: 0.0073 - accuracy: 0.9681 - val_loss: 0.0075 - val_accuracy: 0.9653\n",
      "Epoch 8/100\n",
      "540/540 [==============================] - 3s 5ms/step - loss: 0.0066 - accuracy: 0.9707 - val_loss: 0.0069 - val_accuracy: 0.9685\n",
      "Epoch 9/100\n",
      "540/540 [==============================] - 3s 5ms/step - loss: 0.0060 - accuracy: 0.9738 - val_loss: 0.0062 - val_accuracy: 0.9727\n",
      "Epoch 10/100\n",
      "540/540 [==============================] - 3s 5ms/step - loss: 0.0055 - accuracy: 0.9759 - val_loss: 0.0061 - val_accuracy: 0.9715\n",
      "Epoch 11/100\n",
      "540/540 [==============================] - 3s 6ms/step - loss: 0.0050 - accuracy: 0.9779 - val_loss: 0.0059 - val_accuracy: 0.9735\n",
      "Epoch 12/100\n",
      "540/540 [==============================] - 3s 5ms/step - loss: 0.0046 - accuracy: 0.9802 - val_loss: 0.0060 - val_accuracy: 0.9725\n",
      "Epoch 13/100\n",
      "540/540 [==============================] - 3s 5ms/step - loss: 0.0043 - accuracy: 0.9812 - val_loss: 0.0059 - val_accuracy: 0.9730\n",
      "Epoch 14/100\n",
      "540/540 [==============================] - 3s 6ms/step - loss: 0.0040 - accuracy: 0.9823 - val_loss: 0.0060 - val_accuracy: 0.9723\n",
      "Epoch 15/100\n",
      "540/540 [==============================] - 4s 7ms/step - loss: 0.0037 - accuracy: 0.9836 - val_loss: 0.0054 - val_accuracy: 0.9747\n",
      "Epoch 16/100\n",
      "540/540 [==============================] - 3s 5ms/step - loss: 0.0035 - accuracy: 0.9843 - val_loss: 0.0055 - val_accuracy: 0.9750\n",
      "Epoch 17/100\n",
      "540/540 [==============================] - 3s 5ms/step - loss: 0.0033 - accuracy: 0.9853 - val_loss: 0.0055 - val_accuracy: 0.9748\n",
      "Epoch 18/100\n",
      "540/540 [==============================] - 3s 6ms/step - loss: 0.0031 - accuracy: 0.9863 - val_loss: 0.0053 - val_accuracy: 0.9760\n",
      "Epoch 19/100\n",
      "540/540 [==============================] - 3s 5ms/step - loss: 0.0029 - accuracy: 0.9871 - val_loss: 0.0054 - val_accuracy: 0.9752\n",
      "Epoch 20/100\n",
      "540/540 [==============================] - 3s 6ms/step - loss: 0.0028 - accuracy: 0.9875 - val_loss: 0.0053 - val_accuracy: 0.9743\n",
      "Epoch 21/100\n",
      "540/540 [==============================] - 3s 5ms/step - loss: 0.0027 - accuracy: 0.9880 - val_loss: 0.0052 - val_accuracy: 0.9755\n",
      "Epoch 22/100\n",
      "540/540 [==============================] - 3s 5ms/step - loss: 0.0025 - accuracy: 0.9886 - val_loss: 0.0050 - val_accuracy: 0.9770\n",
      "Epoch 23/100\n",
      "540/540 [==============================] - 3s 5ms/step - loss: 0.0024 - accuracy: 0.9891 - val_loss: 0.0051 - val_accuracy: 0.9753\n",
      "Epoch 24/100\n",
      "540/540 [==============================] - 3s 6ms/step - loss: 0.0023 - accuracy: 0.9893 - val_loss: 0.0053 - val_accuracy: 0.9760\n",
      "Epoch 25/100\n",
      "540/540 [==============================] - 3s 6ms/step - loss: 0.0022 - accuracy: 0.9896 - val_loss: 0.0050 - val_accuracy: 0.9767\n",
      "Epoch 26/100\n",
      "540/540 [==============================] - 2s 5ms/step - loss: 0.0022 - accuracy: 0.9899 - val_loss: 0.0049 - val_accuracy: 0.9770\n",
      "Epoch 27/100\n",
      "540/540 [==============================] - 3s 5ms/step - loss: 0.0021 - accuracy: 0.9901 - val_loss: 0.0050 - val_accuracy: 0.9760\n",
      "Epoch 28/100\n",
      "540/540 [==============================] - 3s 5ms/step - loss: 0.0020 - accuracy: 0.9902 - val_loss: 0.0049 - val_accuracy: 0.9762\n",
      "Epoch 29/100\n",
      "540/540 [==============================] - 2s 4ms/step - loss: 0.0020 - accuracy: 0.9904 - val_loss: 0.0049 - val_accuracy: 0.9772\n",
      "Epoch 30/100\n",
      "540/540 [==============================] - 2s 5ms/step - loss: 0.0020 - accuracy: 0.9905 - val_loss: 0.0050 - val_accuracy: 0.9767\n",
      "Epoch 31/100\n",
      "540/540 [==============================] - 2s 4ms/step - loss: 0.0019 - accuracy: 0.9907 - val_loss: 0.0049 - val_accuracy: 0.9767\n",
      "Epoch 32/100\n",
      "540/540 [==============================] - 2s 5ms/step - loss: 0.0019 - accuracy: 0.9908 - val_loss: 0.0048 - val_accuracy: 0.9788\n",
      "Epoch 33/100\n",
      "540/540 [==============================] - 2s 4ms/step - loss: 0.0019 - accuracy: 0.9909 - val_loss: 0.0048 - val_accuracy: 0.9782\n",
      "Epoch 34/100\n",
      "540/540 [==============================] - 2s 4ms/step - loss: 0.0019 - accuracy: 0.9911 - val_loss: 0.0049 - val_accuracy: 0.9765\n",
      "Epoch 35/100\n",
      "540/540 [==============================] - 3s 5ms/step - loss: 0.0018 - accuracy: 0.9912 - val_loss: 0.0049 - val_accuracy: 0.9765\n",
      "Epoch 36/100\n",
      "540/540 [==============================] - 2s 4ms/step - loss: 0.0018 - accuracy: 0.9913 - val_loss: 0.0048 - val_accuracy: 0.9780\n",
      "Epoch 37/100\n",
      "540/540 [==============================] - 2s 4ms/step - loss: 0.0018 - accuracy: 0.9914 - val_loss: 0.0049 - val_accuracy: 0.9760\n",
      "Epoch 38/100\n",
      "540/540 [==============================] - 2s 5ms/step - loss: 0.0018 - accuracy: 0.9914 - val_loss: 0.0048 - val_accuracy: 0.9777\n",
      "Epoch 39/100\n",
      "540/540 [==============================] - 2s 4ms/step - loss: 0.0018 - accuracy: 0.9914 - val_loss: 0.0048 - val_accuracy: 0.9775\n",
      "Epoch 40/100\n",
      "540/540 [==============================] - 3s 5ms/step - loss: 0.0017 - accuracy: 0.9914 - val_loss: 0.0049 - val_accuracy: 0.9760\n",
      "Epoch 41/100\n",
      "540/540 [==============================] - 2s 5ms/step - loss: 0.0017 - accuracy: 0.9915 - val_loss: 0.0048 - val_accuracy: 0.9778\n",
      "Epoch 42/100\n",
      "540/540 [==============================] - 2s 5ms/step - loss: 0.0017 - accuracy: 0.9915 - val_loss: 0.0048 - val_accuracy: 0.9773\n",
      "Epoch 43/100\n",
      "540/540 [==============================] - 2s 4ms/step - loss: 0.0017 - accuracy: 0.9916 - val_loss: 0.0047 - val_accuracy: 0.9773\n",
      "Epoch 44/100\n",
      "540/540 [==============================] - 2s 5ms/step - loss: 0.0017 - accuracy: 0.9916 - val_loss: 0.0047 - val_accuracy: 0.9777\n",
      "Epoch 45/100\n",
      "540/540 [==============================] - 2s 5ms/step - loss: 0.0017 - accuracy: 0.9917 - val_loss: 0.0047 - val_accuracy: 0.9775\n",
      "Epoch 46/100\n",
      "540/540 [==============================] - 3s 5ms/step - loss: 0.0017 - accuracy: 0.9917 - val_loss: 0.0047 - val_accuracy: 0.9773\n",
      "Epoch 47/100\n",
      "540/540 [==============================] - 2s 4ms/step - loss: 0.0017 - accuracy: 0.9917 - val_loss: 0.0048 - val_accuracy: 0.9778\n",
      "Epoch 48/100\n",
      "540/540 [==============================] - 2s 4ms/step - loss: 0.0017 - accuracy: 0.9916 - val_loss: 0.0047 - val_accuracy: 0.9780\n",
      "Epoch 49/100\n",
      "540/540 [==============================] - 2s 5ms/step - loss: 0.0017 - accuracy: 0.9918 - val_loss: 0.0047 - val_accuracy: 0.9777\n",
      "Epoch 50/100\n",
      "540/540 [==============================] - 2s 4ms/step - loss: 0.0017 - accuracy: 0.9918 - val_loss: 0.0047 - val_accuracy: 0.9780\n",
      "Epoch 51/100\n",
      "540/540 [==============================] - 2s 4ms/step - loss: 0.0017 - accuracy: 0.9918 - val_loss: 0.0048 - val_accuracy: 0.9770\n",
      "Epoch 52/100\n",
      "540/540 [==============================] - 3s 5ms/step - loss: 0.0017 - accuracy: 0.9919 - val_loss: 0.0048 - val_accuracy: 0.9763\n",
      "Epoch 53/100\n",
      "540/540 [==============================] - 2s 4ms/step - loss: 0.0016 - accuracy: 0.9919 - val_loss: 0.0047 - val_accuracy: 0.9783\n",
      "Epoch 54/100\n",
      "540/540 [==============================] - 2s 4ms/step - loss: 0.0016 - accuracy: 0.9920 - val_loss: 0.0048 - val_accuracy: 0.9787\n",
      "Epoch 55/100\n",
      "540/540 [==============================] - 2s 5ms/step - loss: 0.0016 - accuracy: 0.9921 - val_loss: 0.0048 - val_accuracy: 0.9780\n",
      "Epoch 56/100\n",
      "540/540 [==============================] - 2s 4ms/step - loss: 0.0016 - accuracy: 0.9921 - val_loss: 0.0047 - val_accuracy: 0.9777\n",
      "Epoch 57/100\n",
      "540/540 [==============================] - 2s 5ms/step - loss: 0.0016 - accuracy: 0.9921 - val_loss: 0.0047 - val_accuracy: 0.9782\n",
      "Epoch 58/100\n",
      "540/540 [==============================] - 3s 5ms/step - loss: 0.0016 - accuracy: 0.9921 - val_loss: 0.0047 - val_accuracy: 0.9773\n",
      "Epoch 59/100\n",
      "540/540 [==============================] - 2s 4ms/step - loss: 0.0016 - accuracy: 0.9921 - val_loss: 0.0047 - val_accuracy: 0.9780\n",
      "Epoch 60/100\n",
      "540/540 [==============================] - 2s 4ms/step - loss: 0.0016 - accuracy: 0.9921 - val_loss: 0.0047 - val_accuracy: 0.9775\n",
      "Epoch 61/100\n",
      "540/540 [==============================] - 2s 5ms/step - loss: 0.0016 - accuracy: 0.9921 - val_loss: 0.0047 - val_accuracy: 0.9772\n",
      "Epoch 62/100\n",
      "540/540 [==============================] - 2s 4ms/step - loss: 0.0016 - accuracy: 0.9921 - val_loss: 0.0047 - val_accuracy: 0.9783\n",
      "Epoch 63/100\n",
      "540/540 [==============================] - 2s 4ms/step - loss: 0.0016 - accuracy: 0.9922 - val_loss: 0.0047 - val_accuracy: 0.9770\n",
      "Epoch 64/100\n",
      "540/540 [==============================] - 3s 5ms/step - loss: 0.0016 - accuracy: 0.9922 - val_loss: 0.0047 - val_accuracy: 0.9775\n",
      "Epoch 65/100\n",
      "540/540 [==============================] - 3s 5ms/step - loss: 0.0016 - accuracy: 0.9922 - val_loss: 0.0047 - val_accuracy: 0.9778\n",
      "Epoch 66/100\n",
      "540/540 [==============================] - 3s 5ms/step - loss: 0.0016 - accuracy: 0.9923 - val_loss: 0.0047 - val_accuracy: 0.9777\n",
      "Epoch 67/100\n",
      "540/540 [==============================] - 3s 5ms/step - loss: 0.0016 - accuracy: 0.9923 - val_loss: 0.0046 - val_accuracy: 0.9780\n",
      "Epoch 68/100\n",
      "540/540 [==============================] - 3s 5ms/step - loss: 0.0016 - accuracy: 0.9923 - val_loss: 0.0047 - val_accuracy: 0.9772\n",
      "Epoch 69/100\n",
      "540/540 [==============================] - 2s 4ms/step - loss: 0.0016 - accuracy: 0.9924 - val_loss: 0.0047 - val_accuracy: 0.9775\n",
      "Epoch 70/100\n",
      "540/540 [==============================] - 2s 4ms/step - loss: 0.0015 - accuracy: 0.9924 - val_loss: 0.0047 - val_accuracy: 0.9785\n",
      "Epoch 71/100\n",
      "540/540 [==============================] - 3s 5ms/step - loss: 0.0015 - accuracy: 0.9924 - val_loss: 0.0047 - val_accuracy: 0.9775\n",
      "Epoch 72/100\n",
      "540/540 [==============================] - 3s 5ms/step - loss: 0.0015 - accuracy: 0.9924 - val_loss: 0.0047 - val_accuracy: 0.9778\n",
      "Epoch 73/100\n",
      "540/540 [==============================] - 3s 5ms/step - loss: 0.0015 - accuracy: 0.9924 - val_loss: 0.0046 - val_accuracy: 0.9782\n",
      "Epoch 74/100\n",
      "540/540 [==============================] - 2s 5ms/step - loss: 0.0015 - accuracy: 0.9924 - val_loss: 0.0047 - val_accuracy: 0.9778\n",
      "Epoch 75/100\n",
      "540/540 [==============================] - 3s 5ms/step - loss: 0.0015 - accuracy: 0.9925 - val_loss: 0.0047 - val_accuracy: 0.9780\n",
      "Epoch 76/100\n",
      "540/540 [==============================] - 3s 6ms/step - loss: 0.0015 - accuracy: 0.9925 - val_loss: 0.0046 - val_accuracy: 0.9782\n",
      "Epoch 77/100\n",
      "540/540 [==============================] - 2s 5ms/step - loss: 0.0015 - accuracy: 0.9925 - val_loss: 0.0046 - val_accuracy: 0.9780\n",
      "Epoch 78/100\n",
      "540/540 [==============================] - 3s 5ms/step - loss: 0.0015 - accuracy: 0.9925 - val_loss: 0.0047 - val_accuracy: 0.9777\n",
      "Epoch 79/100\n",
      "540/540 [==============================] - 2s 5ms/step - loss: 0.0015 - accuracy: 0.9925 - val_loss: 0.0046 - val_accuracy: 0.9782\n",
      "Epoch 80/100\n",
      "540/540 [==============================] - 3s 5ms/step - loss: 0.0015 - accuracy: 0.9925 - val_loss: 0.0047 - val_accuracy: 0.9777\n",
      "Epoch 81/100\n",
      "540/540 [==============================] - 3s 5ms/step - loss: 0.0015 - accuracy: 0.9925 - val_loss: 0.0047 - val_accuracy: 0.9772\n",
      "Epoch 82/100\n",
      "540/540 [==============================] - 3s 5ms/step - loss: 0.0015 - accuracy: 0.9925 - val_loss: 0.0047 - val_accuracy: 0.9773\n",
      "Epoch 83/100\n",
      "540/540 [==============================] - 3s 5ms/step - loss: 0.0015 - accuracy: 0.9926 - val_loss: 0.0046 - val_accuracy: 0.9777\n",
      "Epoch 84/100\n",
      "540/540 [==============================] - 2s 5ms/step - loss: 0.0015 - accuracy: 0.9926 - val_loss: 0.0047 - val_accuracy: 0.9773\n",
      "Epoch 85/100\n",
      "540/540 [==============================] - 3s 5ms/step - loss: 0.0015 - accuracy: 0.9926 - val_loss: 0.0047 - val_accuracy: 0.9778\n",
      "Epoch 86/100\n",
      "540/540 [==============================] - 3s 5ms/step - loss: 0.0015 - accuracy: 0.9926 - val_loss: 0.0047 - val_accuracy: 0.9772\n",
      "Epoch 87/100\n",
      "540/540 [==============================] - 3s 6ms/step - loss: 0.0015 - accuracy: 0.9927 - val_loss: 0.0047 - val_accuracy: 0.9770\n",
      "Epoch 88/100\n",
      "540/540 [==============================] - 3s 6ms/step - loss: 0.0015 - accuracy: 0.9927 - val_loss: 0.0047 - val_accuracy: 0.9775\n",
      "Epoch 89/100\n",
      "540/540 [==============================] - 3s 5ms/step - loss: 0.0015 - accuracy: 0.9927 - val_loss: 0.0047 - val_accuracy: 0.9770\n",
      "Epoch 90/100\n",
      "540/540 [==============================] - 3s 5ms/step - loss: 0.0015 - accuracy: 0.9927 - val_loss: 0.0047 - val_accuracy: 0.9770\n",
      "Epoch 91/100\n",
      "540/540 [==============================] - 3s 5ms/step - loss: 0.0015 - accuracy: 0.9927 - val_loss: 0.0047 - val_accuracy: 0.9770\n",
      "Epoch 92/100\n",
      "540/540 [==============================] - 2s 5ms/step - loss: 0.0015 - accuracy: 0.9927 - val_loss: 0.0047 - val_accuracy: 0.9772\n",
      "Epoch 93/100\n",
      "540/540 [==============================] - 3s 5ms/step - loss: 0.0015 - accuracy: 0.9927 - val_loss: 0.0047 - val_accuracy: 0.9772\n",
      "Epoch 94/100\n",
      "540/540 [==============================] - 3s 5ms/step - loss: 0.0015 - accuracy: 0.9927 - val_loss: 0.0047 - val_accuracy: 0.9773\n",
      "Epoch 95/100\n",
      "540/540 [==============================] - 3s 5ms/step - loss: 0.0015 - accuracy: 0.9927 - val_loss: 0.0047 - val_accuracy: 0.9773\n",
      "Epoch 96/100\n",
      "540/540 [==============================] - 3s 5ms/step - loss: 0.0015 - accuracy: 0.9927 - val_loss: 0.0047 - val_accuracy: 0.9772\n",
      "Epoch 97/100\n",
      "540/540 [==============================] - 3s 5ms/step - loss: 0.0015 - accuracy: 0.9927 - val_loss: 0.0047 - val_accuracy: 0.9772\n",
      "Epoch 98/100\n",
      "540/540 [==============================] - 3s 5ms/step - loss: 0.0015 - accuracy: 0.9927 - val_loss: 0.0047 - val_accuracy: 0.9770\n",
      "Epoch 99/100\n",
      "540/540 [==============================] - 3s 5ms/step - loss: 0.0015 - accuracy: 0.9927 - val_loss: 0.0047 - val_accuracy: 0.9773\n",
      "Epoch 100/100\n",
      "540/540 [==============================] - 3s 5ms/step - loss: 0.0015 - accuracy: 0.9928 - val_loss: 0.0047 - val_accuracy: 0.9768\n"
     ]
    }
   ],
   "source": [
    "# Start training.\n",
    "history = ann.fit(ready_to_train, binarized_target, epochs = 100, batch_size = 100 , verbose = 1, validation_split = 0.1)"
   ]
  },
  {
   "attachments": {},
   "cell_type": "markdown",
   "metadata": {},
   "source": [
    "Nota: The error rate of the trained model is 0.0015 or 0.15%."
   ]
  },
  {
   "cell_type": "code",
   "execution_count": 169,
   "metadata": {},
   "outputs": [
    {
     "data": {
      "text/plain": [
       "Text(0.5, 0, 'epochs')"
      ]
     },
     "execution_count": 169,
     "metadata": {},
     "output_type": "execute_result"
    },
    {
     "data": {
      "image/png": "[encoded data removed]",
      "text/plain": [
       "<Figure size 1500x500 with 2 Axes>"
      ]
     },
     "metadata": {},
     "output_type": "display_data"
    }
   ],
   "source": [
    "# Loss, accuracy metrics.\n",
    "axe = plt.subplots(1, 2, figsize=(15, 5))[1]\n",
    "axe[0].plot(history.history['loss'], c='r')\n",
    "axe[0].set_ylabel('loss')\n",
    "axe[0].set_xlabel('epochs')\n",
    "\n",
    "axe[1].plot(history.history['accuracy'], c='g')\n",
    "axe[1].set_ylabel('accuracy')\n",
    "axe[1].set_xlabel('epochs')"
   ]
  },
  {
   "attachments": {},
   "cell_type": "markdown",
   "metadata": {},
   "source": [
    "# Preparing data set of my handwritten letters."
   ]
  },
  {
   "cell_type": "code",
   "execution_count": 170,
   "metadata": {},
   "outputs": [],
   "source": [
    "my_numbers = []\n",
    "for i in range(10):\n",
    "    image_path = f'./img/my_numbers/num{i}.png'\n",
    "    image = cv2.imread(image_path, 0)\n",
    "    # To invert pixels.\n",
    "    image = cv2.bitwise_not(image)\n",
    "    # Resize.\n",
    "    image = cv2.resize(image, (28, 28))\n",
    "    # Binaring.\n",
    "    image = cv2.threshold(image, 110, 255, cv2.THRESH_BINARY)[1]\n",
    "    # Flatten.\n",
    "    image = image.reshape([-1, 28*28])\n",
    "    # Normalizing.\n",
    "    image = image / 255\n",
    "    my_numbers.append(image[0])\n",
    "my_numbers = np.array(my_numbers)"
   ]
  },
  {
   "cell_type": "code",
   "execution_count": 194,
   "metadata": {},
   "outputs": [
    {
     "data": {
      "image/png": "[encoded data removed]",
      "text/plain": [
       "<Figure size 1000x1000 with 10 Axes>"
      ]
     },
     "metadata": {},
     "output_type": "display_data"
    }
   ],
   "source": [
    "# Ploting all my numbers.\n",
    "print_letters(my_numbers.reshape([-1, 28,28]), shape=(2, 5))"
   ]
  },
  {
   "attachments": {},
   "cell_type": "markdown",
   "metadata": {},
   "source": [
    "# Testing with my numbers."
   ]
  },
  {
   "cell_type": "code",
   "execution_count": 171,
   "metadata": {},
   "outputs": [],
   "source": [
    "# Here we have all my dataset.\n",
    "# Shuffeling the data.\n",
    "np.random.shuffle(my_numbers)"
   ]
  },
  {
   "cell_type": "code",
   "execution_count": 195,
   "metadata": {},
   "outputs": [
    {
     "data": {
      "text/plain": [
       "(10, 784)"
      ]
     },
     "execution_count": 195,
     "metadata": {},
     "output_type": "execute_result"
    }
   ],
   "source": [
    "my_numbers.shape"
   ]
  },
  {
   "cell_type": "code",
   "execution_count": 172,
   "metadata": {},
   "outputs": [
    {
     "name": "stdout",
     "output_type": "stream",
     "text": [
      "1/1 [==============================] - 0s 79ms/step\n"
     ]
    }
   ],
   "source": [
    "prediction = ann.predict(my_numbers)"
   ]
  },
  {
   "cell_type": "code",
   "execution_count": 196,
   "metadata": {},
   "outputs": [
    {
     "data": {
      "image/png": "[encoded data removed]",
      "text/plain": [
       "<Figure size 1500x700 with 10 Axes>"
      ]
     },
     "metadata": {},
     "output_type": "display_data"
    }
   ],
   "source": [
    "# Ploting my numbers next to their prediction.\n",
    "fig, axe = plt.subplots(2, 5, figsize=(15, 7))\n",
    "axe = axe.flatten()\n",
    "\n",
    "for i in range(10):\n",
    "    the_number_is = np.argmax(prediction[i])\n",
    "    axe[i].imshow(my_numbers[i].reshape([28,28]), cmap='gray')\n",
    "    axe[i].set_xticks([])\n",
    "    axe[i].set_yticks([])\n",
    "    axe[i].set_title(f'This number is: {the_number_is}')"
   ]
  }
 ],
 "metadata": {
  "kernelspec": {
   "display_name": "env",
   "language": "python",
   "name": "python3"
  },
  "language_info": {
   "codemirror_mode": {
    "name": "ipython",
    "version": 3
   },
   "file_extension": ".py",
   "mimetype": "text/x-python",
   "name": "python",
   "nbconvert_exporter": "python",
   "pygments_lexer": "ipython3",
   "version": "3.10.6"
  },
  "orig_nbformat": 4
 },
 "nbformat": 4,
 "nbformat_minor": 2
}
