{
 "cells": [
  {
   "cell_type": "code",
   "execution_count": 4,
   "metadata": {},
   "outputs": [],
   "source": [
    "import matplotlib.pyplot as plt\n",
    "import pandas as pd\n",
    "import numpy as np\n",
    "import cv2\n",
    "import os"
   ]
  },
  {
   "cell_type": "code",
   "execution_count": 5,
   "metadata": {},
   "outputs": [],
   "source": [
    "path = '/home/christian/Programacion/my_machine_learning_jupyter_notebooks/data_bases/archive/kaggle_3m/'\n",
    "\n",
    "data_map = []\n",
    "xrays_of_people_dir = os.listdir(path)\n",
    "for patients_dir in xrays_of_people_dir:\n",
    "    patient_xrays_dir = os.listdir(path+patients_dir)\n",
    "    for xray in patient_xrays_dir:\n",
    "        xray_path = path+patients_dir+'/'+xray\n",
    "        data_map.extend([patients_dir, xray_path])\n",
    "        # plt.imshow(cv2.imread(xray_path, 0), cmap='gray')"
   ]
  },
  {
   "cell_type": "code",
   "execution_count": 6,
   "metadata": {},
   "outputs": [
    {
     "data": {
      "text/html": [
       "<div>\n",
       "<style scoped>\n",
       "    .dataframe tbody tr th:only-of-type {\n",
       "        vertical-align: middle;\n",
       "    }\n",
       "\n",
       "    .dataframe tbody tr th {\n",
       "        vertical-align: top;\n",
       "    }\n",
       "\n",
       "    .dataframe thead th {\n",
       "        text-align: right;\n",
       "    }\n",
       "</style>\n",
       "<table border=\"1\" class=\"dataframe\">\n",
       "  <thead>\n",
       "    <tr style=\"text-align: right;\">\n",
       "      <th></th>\n",
       "      <th>dir</th>\n",
       "      <th>path</th>\n",
       "    </tr>\n",
       "  </thead>\n",
       "  <tbody>\n",
       "    <tr>\n",
       "      <th>0</th>\n",
       "      <td>TCGA_DU_8162_19961029</td>\n",
       "      <td>/home/christian/Programacion/my_machine_learni...</td>\n",
       "    </tr>\n",
       "    <tr>\n",
       "      <th>1</th>\n",
       "      <td>TCGA_DU_8162_19961029</td>\n",
       "      <td>/home/christian/Programacion/my_machine_learni...</td>\n",
       "    </tr>\n",
       "    <tr>\n",
       "      <th>2</th>\n",
       "      <td>TCGA_DU_8162_19961029</td>\n",
       "      <td>/home/christian/Programacion/my_machine_learni...</td>\n",
       "    </tr>\n",
       "    <tr>\n",
       "      <th>3</th>\n",
       "      <td>TCGA_DU_8162_19961029</td>\n",
       "      <td>/home/christian/Programacion/my_machine_learni...</td>\n",
       "    </tr>\n",
       "    <tr>\n",
       "      <th>4</th>\n",
       "      <td>TCGA_DU_8162_19961029</td>\n",
       "      <td>/home/christian/Programacion/my_machine_learni...</td>\n",
       "    </tr>\n",
       "  </tbody>\n",
       "</table>\n",
       "</div>"
      ],
      "text/plain": [
       "                     dir                                               path\n",
       "0  TCGA_DU_8162_19961029  /home/christian/Programacion/my_machine_learni...\n",
       "1  TCGA_DU_8162_19961029  /home/christian/Programacion/my_machine_learni...\n",
       "2  TCGA_DU_8162_19961029  /home/christian/Programacion/my_machine_learni...\n",
       "3  TCGA_DU_8162_19961029  /home/christian/Programacion/my_machine_learni...\n",
       "4  TCGA_DU_8162_19961029  /home/christian/Programacion/my_machine_learni..."
      ]
     },
     "execution_count": 6,
     "metadata": {},
     "output_type": "execute_result"
    }
   ],
   "source": [
    "db = pd.DataFrame({\n",
    "    'dir': data_map[0::2],\n",
    "    'path': data_map[1::2]\n",
    "})\n",
    "db[:5]"
   ]
  },
  {
   "cell_type": "code",
   "execution_count": 19,
   "metadata": {},
   "outputs": [],
   "source": [
    "masks = db[db['path'].str.contains('mask')]\n",
    "xrays = db[~db['path'].str.contains('mask')]"
   ]
  }
 ],
 "metadata": {
  "kernelspec": {
   "display_name": "Python 3",
   "language": "python",
   "name": "python3"
  },
  "language_info": {
   "codemirror_mode": {
    "name": "ipython",
    "version": 3
   },
   "file_extension": ".py",
   "mimetype": "text/x-python",
   "name": "python",
   "nbconvert_exporter": "python",
   "pygments_lexer": "ipython3",
   "version": "3.10.6"
  },
  "orig_nbformat": 4
 },
 "nbformat": 4,
 "nbformat_minor": 2
}
