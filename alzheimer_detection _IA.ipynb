{
  "cells": [
    {
      "attachments": {},
      "cell_type": "markdown",
      "metadata": {},
      "source": [
        "Code writer: [Christian Benitez](https://github.com/christianmbr)."
      ]
    },
    {
      "cell_type": "code",
      "execution_count": null,
      "metadata": {
        "id": "r-IIviDpf7Q4"
      },
      "outputs": [],
      "source": [
        "# Librerias necesarias.\n",
        "import numpy as np\n",
        "import pandas as pd\n",
        "import matplotlib.pyplot as plt\n",
        "import math\n",
        "import os\n",
        "import cv2 as cv\n",
        "import pickle\n",
        "\n",
        "from tensorflow.keras.utils import to_categorical\n",
        "from tensorflow.keras.models import Sequential\n",
        "from tensorflow.keras.layers import Dense, Conv2D, MaxPooling2D, Flatten, Dropout\n",
        "\n",
        "from sklearn.metrics import accuracy_score, confusion_matrix\n",
        "from sklearn.model_selection import train_test_split\n",
        "import seaborn as sns"
      ]
    },
    {
      "cell_type": "code",
      "execution_count": null,
      "metadata": {
        "id": "c6-uAK9bhTMU"
      },
      "outputs": [],
      "source": [
        "# Definicion que procesa las imagenes de una serie de carpetas y generar un dataframe de pandas.\n",
        "def prepareDataFrame(dir, imageSize, save=False, name=''):\n",
        "  data = [] # Array donde se irán almacenado la informacion de las imagenes.\n",
        "  # Ciclo que recorre todas las carpetas de un path de carpetas para procesar cada imagen.\n",
        "  for folder in os.listdir(dir):\n",
        "    folderPath = os.path.join(dir, folder)\n",
        "    clase = int(folderPath[-1]) # La clase será el nombre de la carpeta.\n",
        "    for imagen in os.listdir(folderPath):\n",
        "      imgPath = os.path.join(folderPath, imagen)\n",
        "\n",
        "      # Se procesa la imagen.\n",
        "      # Se lee en escalas de grises.\n",
        "      # Se redimenciona teniendo en cuenta la variable size.\n",
        "      # Se aplana el arreglo a una dimension con ravel()\n",
        "      # Se agrega la clase de la respectiva imagen en la posicion final del array. \n",
        "      img = cv.imread(imgPath, cv.IMREAD_GRAYSCALE)\n",
        "      img = cv.resize(img, (imageSize, imageSize))\n",
        "      img = img.ravel()\n",
        "      img = np.append(img, clase)\n",
        "\n",
        "      data.append(img)\n",
        "  # Todo el string con las imagenes se convierte en un DataFrame de pandas.\n",
        "  dataFrame = pd.DataFrame(np.array(data))\n",
        "  # Baraja el dataframe.\n",
        "  dataFrame = dataFrame.sample(frac=1).reset_index(drop=True)\n",
        "  # Extraemos la columna final para ponerla en la posicion 0 (de primero)\n",
        "  label = dataFrame.pop(imageSize * imageSize)\n",
        "  dataFrame.insert(0, 'label', label)\n",
        "\n",
        "  if (save == True):\n",
        "    dataFrame.to_csv(f'{name}.csv')\n",
        "    return 'Save success'\n",
        "\n",
        "  return dataFrame"
      ]
    },
    {
      "cell_type": "code",
      "execution_count": null,
      "metadata": {
        "id": "8As2rmFVxeqC"
      },
      "outputs": [],
      "source": [
        "# Funsion que resibe un prediccion y te devuelve el accuracy score y confusion matrix.\n",
        "def createMetrics(prediction, yTest):\n",
        "  yTest = np.argmax(yTest, axis= 1)\n",
        "  prediction = np.argmax(prediction, axis= 1)\n",
        "\n",
        "  acc = accuracy_score  (yTest, prediction) # Accuracy score.\n",
        "  cm  = confusion_matrix(yTest, prediction) # Confussion matrix\n",
        "\n",
        "  return acc, cm"
      ]
    },
    {
      "cell_type": "code",
      "execution_count": null,
      "metadata": {
        "id": "LJaT0lHqpNCT"
      },
      "outputs": [],
      "source": [
        "# Funsion para imprimir informacion de la base x, y.\n",
        "def moreInfo(db):\n",
        "  # Cargamos lables que están en la columna label.\n",
        "  y = np.array(db.iloc[:, 0])\n",
        "  # Cargamos las caracteristicas de la base de datos.\n",
        "  x = np.array(db.iloc[:, 1:])\n",
        "\n",
        "  print(f'Dimensiones de la imagen: {math.sqrt(x.shape[1])} x {math.sqrt(x.shape[1])}')\n",
        "  print(f'Cantidad de muestras: {x.shape[0]}')\n",
        "  print(f'Clases unicas: {np.unique(y)}')\n",
        "  print(f'Numero de clases: {len(np.unique(y))}')"
      ]
    },
    {
      "cell_type": "code",
      "execution_count": null,
      "metadata": {
        "id": "VlWG2KYAsWaw"
      },
      "outputs": [],
      "source": [
        "def preparexyTrainTestSplit(db, nClases, dimension):\n",
        "  x = np.array(db.iloc[: , 1:]) # Extraemos caracteristicas.\n",
        "  y = np.array(db.iloc[: , 0]) # Extraemos labels.\n",
        "  \n",
        "  # Separamos datos de entrenamiento y prueba.\n",
        "  xTrain, xTest, yTrain, yTest = train_test_split(x, y, test_size=.2, random_state=154)\n",
        "  print('Datos de entrenamiento', xTrain.shape[0])\n",
        "  print('Datos de testeo', xTest.shape[0])\n",
        "\n",
        "  # Categorizamos yTrain, yTest.\n",
        "  yTrain = to_categorical(yTrain, nClases)\n",
        "  yTest = to_categorical(yTest, nClases)\n",
        "\n",
        "  # Reshape de los datos de enternamiento y testeo.\n",
        "  xTrain = xTrain.reshape([-1, dimension, dimension, 1]).astype(float)\n",
        "  xTest = xTest.reshape([-1, dimension, dimension, 1]).astype(float)\n",
        "\n",
        "  # Convertimos los valores a 0 - 1\n",
        "  xTrain /= 255\n",
        "  xTest /= 255\n",
        "\n",
        "  return xTrain, xTest, yTrain, yTest"
      ]
    },
    {
      "cell_type": "code",
      "execution_count": null,
      "metadata": {
        "id": "ZxRLKzAd0JdF"
      },
      "outputs": [],
      "source": [
        "# Funsion para preparar x, y para el modelo neuronal. \n",
        "def preparexy(db, n_classes, dimensiones=(28, 28)):\n",
        "  # Cargamos lables que están en la columna label.\n",
        "  y = np.array(db.iloc[:, 0])\n",
        "  # Categorizamos las 25 clases (señas).\n",
        "  y = to_categorical(y, n_classes)\n",
        "\n",
        "  # Cargamos las caracteristicas de la base de datos.\n",
        "  x = np.array(db.iloc[:, 1:])\n",
        "  # Reshape de los datos de enternamiento.\n",
        "  x = x.reshape([-1, dimensiones[0], dimensiones[1], 1]).astype(float)\n",
        "  # Convertimos los valores a 0 - 1\n",
        "  x /= 255\n",
        "\n",
        "  return x, y"
      ]
    },
    {
      "cell_type": "code",
      "execution_count": null,
      "metadata": {
        "id": "EkV4H-qKvwRD"
      },
      "outputs": [],
      "source": [
        "# Funsion que grafica el modelo.\n",
        "def plotModel(model):\n",
        "  # Plot progress (loss function)\n",
        "  _, axes = plt.subplots(1,2, figsize=(15,5))\n",
        "  axes[0].plot(model.history['loss'] , c = \"orange\", linestyle = \"-\" )\n",
        "  axes[0].plot(model.history['val_loss'] , c = \"green\" , linestyle = \"--\")\n",
        "  axes[0].set_xlabel(\"Epoch\"), axes[0].set_ylabel(\"Cross Entropy\")\n",
        "  axes[0].set_title(\"Loss\")\n",
        "\n",
        "  axes[1].plot(model.history['accuracy'] , c = \"orange\", linestyle = \"-\" )\n",
        "  axes[1].plot(model.history['val_loss'] , c = \"green\" , linestyle = \"--\")\n",
        "  axes[1].set_xlabel(\"Epoch\"), axes[1].set_ylabel(\"Accuracy\")\n",
        "  axes[1].set_title(\"Accuracy\")"
      ]
    },
    {
      "cell_type": "code",
      "execution_count": null,
      "metadata": {
        "id": "1lRtXi37lz9A"
      },
      "outputs": [],
      "source": [
        "dir = './data_base/image_samples'"
      ]
    },
    {
      "cell_type": "code",
      "execution_count": null,
      "metadata": {
        "id": "piYwRToynPLA"
      },
      "outputs": [],
      "source": [
        "db = prepareDataFrame(dir, imageSize=70)"
      ]
    },
    {
      "cell_type": "code",
      "execution_count": null,
      "metadata": {
        "colab": {
          "base_uri": "https://localhost:8080/",
          "height": 173
        },
        "id": "rJyzqh1Hjk65",
        "outputId": "43d5dc39-941a-4605-f9ce-bd5e907c44fa"
      },
      "outputs": [
        {
          "data": {
            "text/html": [
              "\n",
              "  <div id=\"df-d5cb1ef2-3cfb-45c1-b923-ced4433e2582\">\n",
              "    <div class=\"colab-df-container\">\n",
              "      <div>\n",
              "<style scoped>\n",
              "    .dataframe tbody tr th:only-of-type {\n",
              "        vertical-align: middle;\n",
              "    }\n",
              "\n",
              "    .dataframe tbody tr th {\n",
              "        vertical-align: top;\n",
              "    }\n",
              "\n",
              "    .dataframe thead th {\n",
              "        text-align: right;\n",
              "    }\n",
              "</style>\n",
              "<table border=\"1\" class=\"dataframe\">\n",
              "  <thead>\n",
              "    <tr style=\"text-align: right;\">\n",
              "      <th></th>\n",
              "      <th>label</th>\n",
              "      <th>0</th>\n",
              "      <th>1</th>\n",
              "      <th>2</th>\n",
              "      <th>3</th>\n",
              "      <th>4</th>\n",
              "      <th>5</th>\n",
              "      <th>6</th>\n",
              "      <th>7</th>\n",
              "      <th>8</th>\n",
              "      <th>...</th>\n",
              "      <th>4890</th>\n",
              "      <th>4891</th>\n",
              "      <th>4892</th>\n",
              "      <th>4893</th>\n",
              "      <th>4894</th>\n",
              "      <th>4895</th>\n",
              "      <th>4896</th>\n",
              "      <th>4897</th>\n",
              "      <th>4898</th>\n",
              "      <th>4899</th>\n",
              "    </tr>\n",
              "  </thead>\n",
              "  <tbody>\n",
              "    <tr>\n",
              "      <th>0</th>\n",
              "      <td>0</td>\n",
              "      <td>7</td>\n",
              "      <td>7</td>\n",
              "      <td>7</td>\n",
              "      <td>7</td>\n",
              "      <td>7</td>\n",
              "      <td>7</td>\n",
              "      <td>7</td>\n",
              "      <td>7</td>\n",
              "      <td>7</td>\n",
              "      <td>...</td>\n",
              "      <td>7</td>\n",
              "      <td>7</td>\n",
              "      <td>7</td>\n",
              "      <td>7</td>\n",
              "      <td>7</td>\n",
              "      <td>7</td>\n",
              "      <td>7</td>\n",
              "      <td>7</td>\n",
              "      <td>7</td>\n",
              "      <td>7</td>\n",
              "    </tr>\n",
              "    <tr>\n",
              "      <th>1</th>\n",
              "      <td>3</td>\n",
              "      <td>66</td>\n",
              "      <td>66</td>\n",
              "      <td>66</td>\n",
              "      <td>66</td>\n",
              "      <td>66</td>\n",
              "      <td>66</td>\n",
              "      <td>66</td>\n",
              "      <td>66</td>\n",
              "      <td>66</td>\n",
              "      <td>...</td>\n",
              "      <td>66</td>\n",
              "      <td>66</td>\n",
              "      <td>66</td>\n",
              "      <td>66</td>\n",
              "      <td>66</td>\n",
              "      <td>66</td>\n",
              "      <td>66</td>\n",
              "      <td>67</td>\n",
              "      <td>67</td>\n",
              "      <td>67</td>\n",
              "    </tr>\n",
              "    <tr>\n",
              "      <th>2</th>\n",
              "      <td>1</td>\n",
              "      <td>0</td>\n",
              "      <td>0</td>\n",
              "      <td>0</td>\n",
              "      <td>0</td>\n",
              "      <td>0</td>\n",
              "      <td>0</td>\n",
              "      <td>0</td>\n",
              "      <td>0</td>\n",
              "      <td>0</td>\n",
              "      <td>...</td>\n",
              "      <td>0</td>\n",
              "      <td>0</td>\n",
              "      <td>0</td>\n",
              "      <td>0</td>\n",
              "      <td>0</td>\n",
              "      <td>0</td>\n",
              "      <td>0</td>\n",
              "      <td>0</td>\n",
              "      <td>0</td>\n",
              "      <td>0</td>\n",
              "    </tr>\n",
              "  </tbody>\n",
              "</table>\n",
              "<p>3 rows × 4901 columns</p>\n",
              "</div>\n",
              "      <button class=\"colab-df-convert\" onclick=\"convertToInteractive('df-d5cb1ef2-3cfb-45c1-b923-ced4433e2582')\"\n",
              "              title=\"Convert this dataframe to an interactive table.\"\n",
              "              style=\"display:none;\">\n",
              "        \n",
              "  <svg xmlns=\"http://www.w3.org/2000/svg\" height=\"24px\"viewBox=\"0 0 24 24\"\n",
              "       width=\"24px\">\n",
              "    <path d=\"M0 0h24v24H0V0z\" fill=\"none\"/>\n",
              "    <path d=\"M18.56 5.44l.94 2.06.94-2.06 2.06-.94-2.06-.94-.94-2.06-.94 2.06-2.06.94zm-11 1L8.5 8.5l.94-2.06 2.06-.94-2.06-.94L8.5 2.5l-.94 2.06-2.06.94zm10 10l.94 2.06.94-2.06 2.06-.94-2.06-.94-.94-2.06-.94 2.06-2.06.94z\"/><path d=\"M17.41 7.96l-1.37-1.37c-.4-.4-.92-.59-1.43-.59-.52 0-1.04.2-1.43.59L10.3 9.45l-7.72 7.72c-.78.78-.78 2.05 0 2.83L4 21.41c.39.39.9.59 1.41.59.51 0 1.02-.2 1.41-.59l7.78-7.78 2.81-2.81c.8-.78.8-2.07 0-2.86zM5.41 20L4 18.59l7.72-7.72 1.47 1.35L5.41 20z\"/>\n",
              "  </svg>\n",
              "      </button>\n",
              "      \n",
              "  <style>\n",
              "    .colab-df-container {\n",
              "      display:flex;\n",
              "      flex-wrap:wrap;\n",
              "      gap: 12px;\n",
              "    }\n",
              "\n",
              "    .colab-df-convert {\n",
              "      background-color: #E8F0FE;\n",
              "      border: none;\n",
              "      border-radius: 50%;\n",
              "      cursor: pointer;\n",
              "      display: none;\n",
              "      fill: #1967D2;\n",
              "      height: 32px;\n",
              "      padding: 0 0 0 0;\n",
              "      width: 32px;\n",
              "    }\n",
              "\n",
              "    .colab-df-convert:hover {\n",
              "      background-color: #E2EBFA;\n",
              "      box-shadow: 0px 1px 2px rgba(60, 64, 67, 0.3), 0px 1px 3px 1px rgba(60, 64, 67, 0.15);\n",
              "      fill: #174EA6;\n",
              "    }\n",
              "\n",
              "    [theme=dark] .colab-df-convert {\n",
              "      background-color: #3B4455;\n",
              "      fill: #D2E3FC;\n",
              "    }\n",
              "\n",
              "    [theme=dark] .colab-df-convert:hover {\n",
              "      background-color: #434B5C;\n",
              "      box-shadow: 0px 1px 3px 1px rgba(0, 0, 0, 0.15);\n",
              "      filter: drop-shadow(0px 1px 2px rgba(0, 0, 0, 0.3));\n",
              "      fill: #FFFFFF;\n",
              "    }\n",
              "  </style>\n",
              "\n",
              "      <script>\n",
              "        const buttonEl =\n",
              "          document.querySelector('#df-d5cb1ef2-3cfb-45c1-b923-ced4433e2582 button.colab-df-convert');\n",
              "        buttonEl.style.display =\n",
              "          google.colab.kernel.accessAllowed ? 'block' : 'none';\n",
              "\n",
              "        async function convertToInteractive(key) {\n",
              "          const element = document.querySelector('#df-d5cb1ef2-3cfb-45c1-b923-ced4433e2582');\n",
              "          const dataTable =\n",
              "            await google.colab.kernel.invokeFunction('convertToInteractive',\n",
              "                                                     [key], {});\n",
              "          if (!dataTable) return;\n",
              "\n",
              "          const docLinkHtml = 'Like what you see? Visit the ' +\n",
              "            '<a target=\"_blank\" href=https://colab.research.google.com/notebooks/data_table.ipynb>data table notebook</a>'\n",
              "            + ' to learn more about interactive tables.';\n",
              "          element.innerHTML = '';\n",
              "          dataTable['output_type'] = 'display_data';\n",
              "          await google.colab.output.renderOutput(dataTable, element);\n",
              "          const docLink = document.createElement('div');\n",
              "          docLink.innerHTML = docLinkHtml;\n",
              "          element.appendChild(docLink);\n",
              "        }\n",
              "      </script>\n",
              "    </div>\n",
              "  </div>\n",
              "  "
            ],
            "text/plain": [
              "   label   0   1   2   3   4   5   6   7   8  ...  4890  4891  4892  4893  \\\n",
              "0      0   7   7   7   7   7   7   7   7   7  ...     7     7     7     7   \n",
              "1      3  66  66  66  66  66  66  66  66  66  ...    66    66    66    66   \n",
              "2      1   0   0   0   0   0   0   0   0   0  ...     0     0     0     0   \n",
              "\n",
              "   4894  4895  4896  4897  4898  4899  \n",
              "0     7     7     7     7     7     7  \n",
              "1    66    66    66    67    67    67  \n",
              "2     0     0     0     0     0     0  \n",
              "\n",
              "[3 rows x 4901 columns]"
            ]
          },
          "execution_count": 15,
          "metadata": {},
          "output_type": "execute_result"
        }
      ],
      "source": [
        "db[:3]"
      ]
    },
    {
      "cell_type": "code",
      "execution_count": null,
      "metadata": {
        "colab": {
          "base_uri": "https://localhost:8080/"
        },
        "id": "j690JNxdpFJ1",
        "outputId": "6f05c8a1-586c-4e29-a75f-07ea4cc651c6"
      },
      "outputs": [
        {
          "name": "stdout",
          "output_type": "stream",
          "text": [
            "Dimensiones de la imagen: 70.0 x 70.0\n",
            "Cantidad de muestras: 4000\n",
            "Clases unicas: [0 1 2 3]\n",
            "Numero de clases: 4\n"
          ]
        }
      ],
      "source": [
        "moreInfo(db)"
      ]
    },
    {
      "cell_type": "code",
      "execution_count": null,
      "metadata": {
        "id": "Pv7fh5VKsJwI"
      },
      "outputs": [],
      "source": [
        "x, y = preparexy(db, n_classes=4, dimensiones=(70, 70))"
      ]
    },
    {
      "cell_type": "code",
      "execution_count": null,
      "metadata": {
        "colab": {
          "base_uri": "https://localhost:8080/"
        },
        "id": "gkoRj2Oi1PKP",
        "outputId": "c9284d9a-8583-4990-aff0-d9613e8ffd83"
      },
      "outputs": [
        {
          "data": {
            "text/plain": [
              "(4000, 70, 70, 1)"
            ]
          },
          "execution_count": 13,
          "metadata": {},
          "output_type": "execute_result"
        }
      ],
      "source": [
        "x.shape"
      ]
    },
    {
      "cell_type": "code",
      "execution_count": null,
      "metadata": {
        "colab": {
          "base_uri": "https://localhost:8080/"
        },
        "id": "fNlqkfges0jl",
        "outputId": "733f6fb8-e5c3-484a-f370-a006cb901f96"
      },
      "outputs": [
        {
          "name": "stdout",
          "output_type": "stream",
          "text": [
            "Model: \"sequential\"\n",
            "_________________________________________________________________\n",
            " Layer (type)                Output Shape              Param #   \n",
            "=================================================================\n",
            " conv2d (Conv2D)             (None, 70, 70, 32)        320       \n",
            "                                                                 \n",
            " max_pooling2d (MaxPooling2D  (None, 35, 35, 32)       0         \n",
            " )                                                               \n",
            "                                                                 \n",
            " conv2d_1 (Conv2D)           (None, 35, 35, 64)        18496     \n",
            "                                                                 \n",
            " max_pooling2d_1 (MaxPooling  (None, 17, 17, 64)       0         \n",
            " 2D)                                                             \n",
            "                                                                 \n",
            " conv2d_2 (Conv2D)           (None, 17, 17, 128)       73856     \n",
            "                                                                 \n",
            " max_pooling2d_2 (MaxPooling  (None, 8, 8, 128)        0         \n",
            " 2D)                                                             \n",
            "                                                                 \n",
            " conv2d_3 (Conv2D)           (None, 8, 8, 256)         295168    \n",
            "                                                                 \n",
            " max_pooling2d_3 (MaxPooling  (None, 4, 4, 256)        0         \n",
            " 2D)                                                             \n",
            "                                                                 \n",
            " conv2d_4 (Conv2D)           (None, 4, 4, 524)         1207820   \n",
            "                                                                 \n",
            " max_pooling2d_4 (MaxPooling  (None, 2, 2, 524)        0         \n",
            " 2D)                                                             \n",
            "                                                                 \n",
            " flatten (Flatten)           (None, 2096)              0         \n",
            "                                                                 \n",
            " dropout (Dropout)           (None, 2096)              0         \n",
            "                                                                 \n",
            " dense (Dense)               (None, 4)                 8388      \n",
            "                                                                 \n",
            "=================================================================\n",
            "Total params: 1,604,048\n",
            "Trainable params: 1,604,048\n",
            "Non-trainable params: 0\n",
            "_________________________________________________________________\n"
          ]
        }
      ],
      "source": [
        "# Creando el modelo.\n",
        "model = Sequential()\n",
        "\n",
        "model.add(Conv2D(32, kernel_size = (3, 3), activation = 'relu', input_shape = (70, 70, 1), padding='same'))\n",
        "model.add(MaxPooling2D(pool_size = (2, 2)))\n",
        "model.add(Conv2D(64, kernel_size = (3, 3), activation = 'relu', padding='same'))\n",
        "model.add(MaxPooling2D(pool_size = (2, 2)))\n",
        "model.add(Conv2D(128, kernel_size = (3, 3), activation = 'relu', padding='same'))\n",
        "model.add(MaxPooling2D(pool_size = (2, 2)))\n",
        "model.add(Conv2D(256, kernel_size = (3, 3), activation = 'relu', padding='same'))\n",
        "model.add(MaxPooling2D(pool_size = (2, 2)))\n",
        "model.add(Conv2D(524, kernel_size = (3, 3), activation = 'relu', padding='same'))\n",
        "model.add(MaxPooling2D(pool_size = (2, 2)))\n",
        "model.add(Flatten ())\n",
        "model.add(Dropout(0.5))\n",
        "model.add(Dense(4, activation = 'softmax'))\n",
        "\n",
        "model.summary()\n",
        "\n",
        "# Configurando el modelo.\n",
        "model.compile(loss = 'categorical_crossentropy', optimizer = 'adam', metrics= 'accuracy')"
      ]
    },
    {
      "cell_type": "code",
      "execution_count": null,
      "metadata": {
        "id": "7rk0KMMbtUfL"
      },
      "outputs": [],
      "source": [
        "# Entenamiento del modelo con muestras de entrenamiento.\n",
        "history = model.fit(x, y, epochs = 250, batch_size = 15000, verbose = 1, validation_split = .1)"
      ]
    },
    {
      "cell_type": "code",
      "execution_count": null,
      "metadata": {
        "id": "821OqOUYvzzf"
      },
      "outputs": [],
      "source": [
        "plotModel(history)"
      ]
    },
    {
      "cell_type": "code",
      "execution_count": null,
      "metadata": {
        "id": "B9tWCb9E2Pqz"
      },
      "outputs": [],
      "source": [
        "dirTest = '/content/drive/Othercomputers/Mi portátil/Universidad Semestres/Semestre 9/proyecto final inteligencia artificial/i/sampleTest'"
      ]
    },
    {
      "cell_type": "code",
      "execution_count": null,
      "metadata": {
        "colab": {
          "base_uri": "https://localhost:8080/"
        },
        "id": "lm16ZVBx8bdz",
        "outputId": "66f46db6-cda5-4af8-83cb-b53940c3a5f6"
      },
      "outputs": [
        {
          "name": "stderr",
          "output_type": "stream",
          "text": [
            "/usr/local/lib/python3.7/dist-packages/IPython/core/interactiveshell.py:3326: PerformanceWarning: DataFrame is highly fragmented.  This is usually the result of calling `frame.insert` many times, which has poor performance.  Consider joining all columns at once using pd.concat(axis=1) instead.  To get a de-fragmented frame, use `newframe = frame.copy()`\n",
            "  exec(code_obj, self.user_global_ns, self.user_ns)\n"
          ]
        }
      ],
      "source": [
        "dbTest = prepareDataFrame(dirTest, imageSize=70)"
      ]
    },
    {
      "cell_type": "code",
      "execution_count": null,
      "metadata": {
        "colab": {
          "base_uri": "https://localhost:8080/"
        },
        "id": "MQSgPjOJ9L3K",
        "outputId": "182c6f32-3d97-4f01-e281-b3037457738f"
      },
      "outputs": [
        {
          "name": "stdout",
          "output_type": "stream",
          "text": [
            "Dimensiones de la imagen: 70.0 x 70.0\n",
            "Cantidad de muestras: 1600\n",
            "Clases unicas: [0 1 2 3]\n",
            "Numero de clases: 4\n"
          ]
        }
      ],
      "source": [
        "moreInfo(dbTest)"
      ]
    },
    {
      "cell_type": "code",
      "execution_count": null,
      "metadata": {
        "id": "aopSxL_B8LhL"
      },
      "outputs": [],
      "source": [
        "xTest, yTest = preparexy(dbTest, 4, (70, 70))"
      ]
    },
    {
      "cell_type": "code",
      "execution_count": null,
      "metadata": {
        "colab": {
          "base_uri": "https://localhost:8080/"
        },
        "id": "CqBG_BdKZCrZ",
        "outputId": "58796ab5-ab94-40a0-f620-22b76508676e"
      },
      "outputs": [
        {
          "data": {
            "text/plain": [
              "(1600, 70, 70, 1)"
            ]
          },
          "execution_count": 18,
          "metadata": {},
          "output_type": "execute_result"
        }
      ],
      "source": [
        "xTest.shape"
      ]
    },
    {
      "cell_type": "code",
      "execution_count": null,
      "metadata": {
        "colab": {
          "base_uri": "https://localhost:8080/"
        },
        "id": "naWxgZywxY3H",
        "outputId": "b36e2bc3-3d8e-46e3-f750-231b992bb050"
      },
      "outputs": [
        {
          "name": "stdout",
          "output_type": "stream",
          "text": [
            "50/50 [==============================] - 0s 4ms/step\n"
          ]
        }
      ],
      "source": [
        "# Realizamos una prediccion con los valores de prueba.\n",
        "prediction = model.predict(xTest)\n",
        "# Sacamos las metricas.\n",
        "acc, cm = createMetrics(prediction, yTest)"
      ]
    },
    {
      "cell_type": "code",
      "execution_count": null,
      "metadata": {
        "colab": {
          "base_uri": "https://localhost:8080/",
          "height": 534
        },
        "id": "bW3dirgyxqvm",
        "outputId": "e17ae570-b4cf-46ac-99c1-e8e7b1795853"
      },
      "outputs": [
        {
          "data": {
            "text/plain": [
              "[Text(0.5, 1.0, 'Confussion matrix\\nAccuracy test: 85.12%')]"
            ]
          },
          "execution_count": 23,
          "metadata": {},
          "output_type": "execute_result"
        },
        {
          "data": {
            "image/png": "[encoded data removed]",
            "text/plain": [
              "<Figure size 792x576 with 2 Axes>"
            ]
          },
          "metadata": {},
          "output_type": "display_data"
        }
      ],
      "source": [
        "sns.set(rc={'figure.figsize': (11, 8)})\n",
        "sns.heatmap(cm, annot=True, cmap=\"copper\", fmt='g').set(title=f'Confussion matrix\\nAccuracy test: {acc:.2%}')"
      ]
    },
    {
      "cell_type": "code",
      "execution_count": null,
      "metadata": {
        "colab": {
          "base_uri": "https://localhost:8080/"
        },
        "id": "04GLmm8b_uPs",
        "outputId": "8d156325-4604-48e6-beeb-e22e66117f7e"
      },
      "outputs": [
        {
          "name": "stderr",
          "output_type": "stream",
          "text": [
            "WARNING:absl:Found untraced functions such as _jit_compiled_convolution_op, _jit_compiled_convolution_op, _jit_compiled_convolution_op, _jit_compiled_convolution_op, _jit_compiled_convolution_op while saving (showing 5 of 5). These functions will not be directly callable after loading.\n"
          ]
        }
      ],
      "source": [
        "pickle.dump(model, open('demensiaModel.pkl', 'wb'))"
      ]
    },
    {
      "cell_type": "code",
      "execution_count": null,
      "metadata": {
        "colab": {
          "base_uri": "https://localhost:8080/"
        },
        "id": "SjjvkfgdIvLD",
        "outputId": "896009e1-1a35-47b9-8104-d375de086027"
      },
      "outputs": [
        {
          "name": "stdout",
          "output_type": "stream",
          "text": [
            "[17 17 17 ... 17 17 17]\n"
          ]
        }
      ],
      "source": [
        "for folder in os.listdir(dir):\n",
        "  folderPath = os.path.join(dir, folder)\n",
        "  clase = int(folderPath[-1]) # La clase será el nombre de la carpeta.\n",
        "  for imagen in os.listdir(folderPath):\n",
        "    imgPath = os.path.join(folderPath, imagen)\n",
        "\n",
        "    img = cv.imread(imgPath, cv.IMREAD_GRAYSCALE)\n",
        "    img = cv.resize(img, (70, 70))\n",
        "    print(img.ravel())\n",
        "    break\n",
        "  break\n",
        "    #\n",
        "    #img = cv.resize(img, (70, 70))\n",
        "    #img = img.ravel()\n",
        "    #img = np.append(img, clase)"
      ]
    },
    {
      "attachments": {},
      "cell_type": "markdown",
      "metadata": {
        "id": "RlqfIf6wJUM4"
      },
      "source": [
        "# App"
      ]
    },
    {
      "cell_type": "code",
      "execution_count": null,
      "metadata": {
        "id": "qGI6LwaeJauP"
      },
      "outputs": [],
      "source": [
        "class AppDetection:\n",
        "  path  = '/demensiaModel.pkl'\n",
        "  model = pickle.load(open(path, 'rb'))\n",
        "  imagesBitMap = []\n",
        "  pred = []\n",
        "\n",
        "  def __init__(self, path):\n",
        "    self.dir = path\n",
        "    self.readFolder()\n",
        "\n",
        "  def readFolder(self):\n",
        "    self.imagesBitMap = []\n",
        "    for folder in os.listdir(self.dir):\n",
        "      folderPath = os.path.join(self.dir, folder)\n",
        "      image = cv.imread(folderPath, cv.IMREAD_GRAYSCALE)\n",
        "      image = cv.resize(image, (70, 70))\n",
        "      image = image.ravel()\n",
        "      self.imagesBitMap.append(image)\n",
        "\n",
        "  def showImages(self):\n",
        "    for image in self.imagesBitMap:\n",
        "      plt.imshow(image.reshape([70, 70]), cmap='gray')\n",
        "      plt.title('MRI')\n",
        "      plt.axis('off')\n",
        "      plt.show()\n",
        "\n",
        "  def predict(self):\n",
        "    self.pred = self.model.predict(np.array(self.imagesBitMap).reshape([-1 , 70, 70, 1]).astype(float))\n",
        "    self.pred = np.argmax(self.pred, axis=1)\n",
        "    # return self.pred\n",
        "  \n",
        "  def showResults(self):\n",
        "    for i, bitMap in enumerate(self.imagesBitMap):\n",
        "      if (self.pred[i] == 0):\n",
        "        result = 'Non Demented'\n",
        "      elif (self.pred[i] == 1):\n",
        "        result = 'Very Mild Demented'\n",
        "      elif (self.pred[i] == 2):\n",
        "        result = 'Mild Demented'\n",
        "      else:\n",
        "        result = 'Moderate Demented'\n",
        "\n",
        "      plt.figure(figsize=(15, 8))\n",
        "      plt.imshow(bitMap.reshape([70, 70]), cmap='gray')\n",
        "      plt.title(f'Dementia type: {result}')\n",
        "      plt.axis('off')\n",
        "      plt.show()\n",
        "\n",
        "  def start(self):\n",
        "    while(True):\n",
        "      print('Welcome.')\n",
        "      print('Show images: 1')\n",
        "      print('Predict images: 2')\n",
        "      print('Read images: 3')\n",
        "      print('Finish: 0')\n",
        "      print()\n",
        "      selection = int(input('Select: '))\n",
        "\n",
        "      if(selection == 1):\n",
        "        print('Showing images')\n",
        "        self.showImages()\n",
        "      elif(selection == 2):\n",
        "        self.predict()\n",
        "        self.showResults()\n",
        "      elif(selection == 3):\n",
        "        self.readFolder()\n",
        "        print('Images successfully read')\n",
        "      else:\n",
        "        print('Good bye')\n",
        "        break"
      ]
    },
    {
      "cell_type": "code",
      "execution_count": null,
      "metadata": {
        "id": "mji5iEeCRHj6"
      },
      "outputs": [],
      "source": [
        "app = AppDetection('image_folder')"
      ]
    },
    {
      "cell_type": "code",
      "execution_count": null,
      "metadata": {
        "colab": {
          "base_uri": "https://localhost:8080/",
          "height": 1000
        },
        "id": "X4m3P85oyNaY",
        "outputId": "4f200e00-39fe-4d60-e9c7-eb80716cd2cd"
      },
      "outputs": [
        {
          "name": "stdout",
          "output_type": "stream",
          "text": [
            "Welcome.\n",
            "Show images: 1\n",
            "Predict images: 2\n",
            "Read images: 3\n",
            "Finish: 0\n",
            "\n",
            "Select: 1\n",
            "Showing images\n"
          ]
        },
        {
          "data": {
            "image/png": "[encoded data removed]",
            "text/plain": [
              "<Figure size 432x288 with 1 Axes>"
            ]
          },
          "metadata": {
            "needs_background": "light"
          },
          "output_type": "display_data"
        },
        {
          "data": {
            "image/png": "[encoded data removed]",
            "text/plain": [
              "<Figure size 432x288 with 1 Axes>"
            ]
          },
          "metadata": {
            "needs_background": "light"
          },
          "output_type": "display_data"
        },
        {
          "data": {
            "image/png": "[encoded data removed]",
            "text/plain": [
              "<Figure size 432x288 with 1 Axes>"
            ]
          },
          "metadata": {
            "needs_background": "light"
          },
          "output_type": "display_data"
        },
        {
          "data": {
            "image/png": "[encoded data removed]",
            "text/plain": [
              "<Figure size 432x288 with 1 Axes>"
            ]
          },
          "metadata": {
            "needs_background": "light"
          },
          "output_type": "display_data"
        },
        {
          "data": {
            "image/png": "[encoded data removed]",
            "text/plain": [
              "<Figure size 432x288 with 1 Axes>"
            ]
          },
          "metadata": {
            "needs_background": "light"
          },
          "output_type": "display_data"
        },
        {
          "name": "stdout",
          "output_type": "stream",
          "text": [
            "Welcome.\n",
            "Show images: 1\n",
            "Predict images: 2\n",
            "Read images: 3\n",
            "Finish: 0\n",
            "\n",
            "Select: 2\n",
            "1/1 [==============================] - 0s 112ms/step\n"
          ]
        },
        {
          "data": {
            "image/png": "[encoded data removed]",
            "text/plain": [
              "<Figure size 1080x576 with 1 Axes>"
            ]
          },
          "metadata": {
            "needs_background": "light"
          },
          "output_type": "display_data"
        },
        {
          "data": {
            "image/png": "[encoded data removed]",
            "text/plain": [
              "<Figure size 1080x576 with 1 Axes>"
            ]
          },
          "metadata": {
            "needs_background": "light"
          },
          "output_type": "display_data"
        },
        {
          "data": {
            "image/png": "[encoded data removed]",
            "text/plain": [
              "<Figure size 1080x576 with 1 Axes>"
            ]
          },
          "metadata": {
            "needs_background": "light"
          },
          "output_type": "display_data"
        },
        {
          "data": {
            "image/png": "[encoded data removed]",
            "text/plain": [
              "<Figure size 1080x576 with 1 Axes>"
            ]
          },
          "metadata": {
            "needs_background": "light"
          },
          "output_type": "display_data"
        },
        {
          "data": {
            "image/png": "[encoded data removed]",
            "text/plain": [
              "<Figure size 1080x576 with 1 Axes>"
            ]
          },
          "metadata": {
            "needs_background": "light"
          },
          "output_type": "display_data"
        },
        {
          "name": "stdout",
          "output_type": "stream",
          "text": [
            "Welcome.\n",
            "Show images: 1\n",
            "Predict images: 2\n",
            "Read images: 3\n",
            "Finish: 0\n",
            "\n",
            "Select: 0\n",
            "Good bye\n"
          ]
        }
      ],
      "source": [
        "app.start()"
      ]
    }
  ],
  "metadata": {
    "accelerator": "GPU",
    "colab": {
      "provenance": []
    },
    "gpuClass": "standard",
    "kernelspec": {
      "display_name": "Python 3",
      "name": "python3"
    },
    "language_info": {
      "name": "python"
    }
  },
  "nbformat": 4,
  "nbformat_minor": 0
}
