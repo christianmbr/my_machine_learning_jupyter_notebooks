{
  "cells": [
    {
      "cell_type": "markdown",
      "metadata": {
        "id": "DRPZGzsjZR3f"
      },
      "source": [
        "Code writer: [Christian Benitez](https://github.com/christianmbr)."
      ]
    },
    {
      "cell_type": "code",
      "execution_count": null,
      "metadata": {
        "id": "W7v5EqssXthR"
      },
      "outputs": [],
      "source": [
        "import pandas as pd\n",
        "import numpy as np\n",
        "\n",
        "import nltk\n",
        "from nltk.tokenize import word_tokenize, RegexpTokenizer\n",
        "from nltk.corpus import stopwords\n",
        "\n",
        "from sklearn.model_selection import train_test_split\n",
        "from sklearn.feature_extraction.text import TfidfVectorizer\n",
        "from sklearn.decomposition import TruncatedSVD\n",
        "\n",
        "from scipy.sparse import hstack\n",
        "\n",
        "import matplotlib.pyplot as plt\n",
        "\n",
        "import re"
      ]
    },
    {
      "cell_type": "code",
      "execution_count": null,
      "metadata": {
        "id": "rIlNB-5rG0p8"
      },
      "outputs": [],
      "source": [
        "nltk.download()"
      ]
    },
    {
      "cell_type": "markdown",
      "metadata": {
        "id": "oz5Qoq28XqP2"
      },
      "source": [
        "# Loading data base\n",
        "\n",
        "Database taken from [Kaggle.com](https://www.kaggle.com/datasets/joyshil0599/hotel-dataset-rates-reviews-and-amenities5k?select=booking_hotel.csv)"
      ]
    },
    {
      "cell_type": "code",
      "execution_count": null,
      "metadata": {
        "id": "Eg-r0EKzXxzI"
      },
      "outputs": [],
      "source": [
        "data_base_path = '/content/drive/Othercomputers/Mi portátil/Universidad Semestres/Semestre 10/machine_learning/booking_hotel.csv'\n",
        "db = pd.read_csv(data_base_path, encoding='windows-1252')"
      ]
    },
    {
      "cell_type": "markdown",
      "metadata": {
        "id": "0JNnElmcaR7c"
      },
      "source": [
        "# Database analysis"
      ]
    },
    {
      "cell_type": "code",
      "execution_count": null,
      "metadata": {
        "colab": {
          "base_uri": "https://localhost:8080/"
        },
        "id": "gQCgSNYqYjLp",
        "outputId": "682f0239-2c0d-4a5e-c274-5e580bb8e6e5"
      },
      "outputs": [
        {
          "name": "stdout",
          "output_type": "stream",
          "text": [
            "Index(['Hotel Name', 'Location', 'Rating', 'Review Score', 'Number of   ',\n",
            "       'Room    Score', 'Room Type', 'Bed Type',\n",
            "       'Room Price (in BDT or any other currency)'],\n",
            "      dtype='object') \n",
            "\n",
            "Shape of data base:  (3465, 9)\n"
          ]
        }
      ],
      "source": [
        "print(db.columns, '\\n')\n",
        "print('Shape of data base: ', db.shape)"
      ]
    },
    {
      "cell_type": "code",
      "execution_count": null,
      "metadata": {
        "colab": {
          "base_uri": "https://localhost:8080/"
        },
        "id": "a3Dfq1COzYGE",
        "outputId": "43abb2cb-ba9f-4857-c362-4c3dd0ab89e7"
      },
      "outputs": [
        {
          "name": "stdout",
          "output_type": "stream",
          "text": [
            "Index(['Hotel Name', 'Location', 'Rating', 'Review Score', 'Number of',\n",
            "       'Room Score', 'Room Type', 'Bed Type', 'Room Price'],\n",
            "      dtype='object')\n"
          ]
        }
      ],
      "source": [
        "# Renaming columns.\n",
        "new_name_columns = {\n",
        "  'Number of   ': 'Number of',\n",
        "  'Room    Score': 'Room Score', \n",
        "  'Room Price (in BDT or any other currency)': 'Room Price'\n",
        "}\n",
        "\n",
        "db = db.rename(columns=new_name_columns)\n",
        "print(db.columns)"
      ]
    },
    {
      "cell_type": "markdown",
      "metadata": {
        "id": "MdQqVxl7rJM7"
      },
      "source": [
        "In this case it is not necessary to take the name, location, number of ratings to train a model."
      ]
    },
    {
      "cell_type": "code",
      "execution_count": null,
      "metadata": {
        "id": "p-AL4PMSo3Lq"
      },
      "outputs": [],
      "source": [
        "columns_to_delete = ['Hotel Name', 'Location', 'Number of']\n",
        "\n",
        "db = db.drop(columns_to_delete, axis=1)"
      ]
    },
    {
      "cell_type": "code",
      "execution_count": null,
      "metadata": {
        "colab": {
          "base_uri": "https://localhost:8080/"
        },
        "id": "puJ6h9bnru71",
        "outputId": "76c7498b-79f2-4ee2-854f-5cdf06161ea5"
      },
      "outputs": [
        {
          "name": "stdout",
          "output_type": "stream",
          "text": [
            "['Very Good' 'Good' 'Wonderful' 'Excellent' 'Review score' nan\n",
            " 'Exceptional']\n",
            "921\n",
            "121\n"
          ]
        }
      ],
      "source": [
        "print(db['Review Score'].unique())\n",
        "print(len(db['Room Type'].unique()))\n",
        "print(len(db['Bed Type'].unique()))"
      ]
    },
    {
      "cell_type": "markdown",
      "metadata": {
        "id": "vqhprnYY0T35"
      },
      "source": [
        "Cleaning Room Price column."
      ]
    },
    {
      "cell_type": "code",
      "execution_count": null,
      "metadata": {
        "colab": {
          "base_uri": "https://localhost:8080/"
        },
        "id": "dvumzZU8vZpT",
        "outputId": "72518e3d-3cf8-44f5-93ca-82212c1d9c65"
      },
      "outputs": [
        {
          "data": {
            "text/plain": [
              "dtype('float64')"
            ]
          },
          "execution_count": 8,
          "metadata": {},
          "output_type": "execute_result"
        }
      ],
      "source": [
        "# Cleaning Room Price column.\n",
        "db['Room Price'] = db['Room Price'].str.replace(',', '')\n",
        "db['Room Price'] = db['Room Price'].apply(lambda x: re.sub('[^0-9\\.,]', '', x)).astype(float)\n",
        "db['Room Price'].dtype"
      ]
    },
    {
      "cell_type": "markdown",
      "metadata": {
        "id": "WmiCG2x004Ep"
      },
      "source": [
        "Cleaning Rating column"
      ]
    },
    {
      "cell_type": "code",
      "execution_count": null,
      "metadata": {
        "id": "iCB7Kgf7dk5R"
      },
      "outputs": [],
      "source": [
        "# Removing all empty fields in the column.\n",
        "print(db[db['Rating'].isna()][:5])\n",
        "\n",
        "db = db.dropna(subset=['Rating'])"
      ]
    },
    {
      "cell_type": "code",
      "execution_count": null,
      "metadata": {
        "colab": {
          "base_uri": "https://localhost:8080/"
        },
        "id": "WI9RBnl11Mib",
        "outputId": "ddeead9d-ba12-4f1a-9c86-7ed531db87d7"
      },
      "outputs": [
        {
          "data": {
            "text/plain": [
              "0"
            ]
          },
          "execution_count": 10,
          "metadata": {},
          "output_type": "execute_result"
        }
      ],
      "source": [
        "len(db[db['Rating'].isna()])"
      ]
    },
    {
      "cell_type": "code",
      "execution_count": null,
      "metadata": {
        "colab": {
          "base_uri": "https://localhost:8080/"
        },
        "id": "qzzVJ51V4c2a",
        "outputId": "baeaf36e-a5bf-4d8b-cfab-7b04f60afbfc"
      },
      "outputs": [
        {
          "name": "stderr",
          "output_type": "stream",
          "text": [
            "<ipython-input-11-83cb4249dce0>:13: SettingWithCopyWarning: \n",
            "A value is trying to be set on a copy of a slice from a DataFrame.\n",
            "Try using .loc[row_indexer,col_indexer] = value instead\n",
            "\n",
            "See the caveats in the documentation: https://pandas.pydata.org/pandas-docs/stable/user_guide/indexing.html#returning-a-view-versus-a-copy\n",
            "  db['Rating'] = db['Rating'].apply(clean_rating)\n"
          ]
        }
      ],
      "source": [
        "def clean_rating(rating):\n",
        "    # Usamos una expresión regular para extraer los dígitos y los puntos de la cadena\n",
        "    pattern = r'(\\d+\\.\\d+)'\n",
        "    match = re.search(pattern, rating)\n",
        "    if match:\n",
        "        # Si encontramos una coincidencia, devolvemos el número flotante\n",
        "        return float(match.group(1))\n",
        "    else:\n",
        "        # Si no encontramos una coincidencia, devolvemos NaN (o cualquier otro valor que quieras utilizar)\n",
        "        return float('nan')\n",
        "\n",
        "# Aplicamos la función 'clean_rating' a la columna 'Rating'\n",
        "db['Rating'] = db['Rating'].apply(clean_rating)"
      ]
    },
    {
      "cell_type": "code",
      "execution_count": null,
      "metadata": {
        "colab": {
          "base_uri": "https://localhost:8080/"
        },
        "id": "AO2f4GAMzxGP",
        "outputId": "11f8f3e6-510b-4c94-e315-78cc4e38da38"
      },
      "outputs": [
        {
          "data": {
            "text/plain": [
              "dtype('float64')"
            ]
          },
          "execution_count": 12,
          "metadata": {},
          "output_type": "execute_result"
        }
      ],
      "source": [
        "db['Rating'].dtype"
      ]
    },
    {
      "cell_type": "markdown",
      "metadata": {
        "id": "MHUlgL6d2R2-"
      },
      "source": [
        "Cleaning Review Score"
      ]
    },
    {
      "cell_type": "code",
      "execution_count": null,
      "metadata": {
        "id": "r0IYioSQ103G"
      },
      "outputs": [],
      "source": [
        "# Deleting empty data.\n",
        "db = db.dropna(subset=['Review Score'])"
      ]
    },
    {
      "cell_type": "code",
      "execution_count": null,
      "metadata": {
        "colab": {
          "base_uri": "https://localhost:8080/"
        },
        "id": "OYNc1ave2VnU",
        "outputId": "22f5df32-c00f-4d22-8c15-8f17e8b77c91"
      },
      "outputs": [
        {
          "name": "stdout",
          "output_type": "stream",
          "text": [
            "['Very Good' 'Good' 'Wonderful' 'Excellent' 'Review score' 'Exceptional']\n"
          ]
        }
      ],
      "source": [
        "print(db['Review Score'].unique())"
      ]
    },
    {
      "cell_type": "code",
      "execution_count": null,
      "metadata": {
        "id": "mqp4KDkJ3bSt"
      },
      "outputs": [],
      "source": [
        "index_to_delete = db[db['Review Score'] == 'Review score'].index\n",
        "db = db.drop(index_to_delete, axis=0)"
      ]
    },
    {
      "cell_type": "code",
      "execution_count": null,
      "metadata": {
        "id": "49NZCnFC3LZC"
      },
      "outputs": [],
      "source": [
        "mapping = {\n",
        "  'Exceptional': 4,\n",
        "  'Wonderful': 3, \n",
        "  'Excellent': 2,\n",
        "  'Very Good': 1, \n",
        "  'Good': 0\n",
        "}\n",
        "\n",
        "db['Review Score'] = db['Review Score'].replace(mapping)"
      ]
    },
    {
      "cell_type": "code",
      "execution_count": null,
      "metadata": {
        "colab": {
          "base_uri": "https://localhost:8080/"
        },
        "id": "KAZAciIV6kgr",
        "outputId": "165b9b55-9610-4e45-c3de-e0b7a7fd407e"
      },
      "outputs": [
        {
          "name": "stdout",
          "output_type": "stream",
          "text": [
            "[1 0 3 2 4]\n",
            "int64\n"
          ]
        }
      ],
      "source": [
        "print(db['Review Score'].unique())\n",
        "print(db['Review Score'].dtype)"
      ]
    },
    {
      "cell_type": "markdown",
      "metadata": {
        "id": "vFqToeo58Y9A"
      },
      "source": [
        "Reviewing the database"
      ]
    },
    {
      "cell_type": "code",
      "execution_count": null,
      "metadata": {
        "id": "c-RRoaWY1iiB"
      },
      "outputs": [],
      "source": [
        "# Droping all empty data.\n",
        "db = db.dropna()"
      ]
    },
    {
      "cell_type": "code",
      "execution_count": null,
      "metadata": {
        "colab": {
          "base_uri": "https://localhost:8080/"
        },
        "id": "vhcQYyzQ7zPs",
        "outputId": "e959a5f7-fb17-4828-d539-e8ba46123fc5"
      },
      "outputs": [
        {
          "name": "stdout",
          "output_type": "stream",
          "text": [
            "Rating float64\n",
            "Review Score int64\n",
            "Room Score float64\n",
            "Room Type object\n",
            "Bed Type object\n",
            "Room Price float64\n"
          ]
        }
      ],
      "source": [
        "for column in db.columns:\n",
        "  print(column, db[column].dtype)"
      ]
    },
    {
      "cell_type": "code",
      "execution_count": null,
      "metadata": {
        "colab": {
          "base_uri": "https://localhost:8080/",
          "height": 206
        },
        "id": "LCY-jRa77atX",
        "outputId": "995f5831-1a20-4c35-984f-51c29d4daa5a"
      },
      "outputs": [
        {
          "data": {
            "text/html": [
              "\n",
              "  <div id=\"df-6603bfcb-4cd1-4a69-8028-46c998ff9062\">\n",
              "    <div class=\"colab-df-container\">\n",
              "      <div>\n",
              "<style scoped>\n",
              "    .dataframe tbody tr th:only-of-type {\n",
              "        vertical-align: middle;\n",
              "    }\n",
              "\n",
              "    .dataframe tbody tr th {\n",
              "        vertical-align: top;\n",
              "    }\n",
              "\n",
              "    .dataframe thead th {\n",
              "        text-align: right;\n",
              "    }\n",
              "</style>\n",
              "<table border=\"1\" class=\"dataframe\">\n",
              "  <thead>\n",
              "    <tr style=\"text-align: right;\">\n",
              "      <th></th>\n",
              "      <th>Rating</th>\n",
              "      <th>Review Score</th>\n",
              "      <th>Room Score</th>\n",
              "      <th>Room Type</th>\n",
              "      <th>Bed Type</th>\n",
              "      <th>Room Price</th>\n",
              "    </tr>\n",
              "  </thead>\n",
              "  <tbody>\n",
              "    <tr>\n",
              "      <th>0</th>\n",
              "      <td>8.2</td>\n",
              "      <td>1</td>\n",
              "      <td>8.6</td>\n",
              "      <td>Deluxe Double or Twin Room</td>\n",
              "      <td>1 double or 2 twins</td>\n",
              "      <td>146026.0</td>\n",
              "    </tr>\n",
              "    <tr>\n",
              "      <th>2</th>\n",
              "      <td>8.3</td>\n",
              "      <td>1</td>\n",
              "      <td>8.9</td>\n",
              "      <td>2 Bedroom Pool Villa</td>\n",
              "      <td>2 queen beds</td>\n",
              "      <td>435384.0</td>\n",
              "    </tr>\n",
              "    <tr>\n",
              "      <th>3</th>\n",
              "      <td>7.7</td>\n",
              "      <td>0</td>\n",
              "      <td>8.1</td>\n",
              "      <td>Executive Double Room</td>\n",
              "      <td>1 full bed</td>\n",
              "      <td>146240.0</td>\n",
              "    </tr>\n",
              "    <tr>\n",
              "      <th>4</th>\n",
              "      <td>9.3</td>\n",
              "      <td>3</td>\n",
              "      <td>9.6</td>\n",
              "      <td>Villa with Garden View</td>\n",
              "      <td>1 double or 2 twins</td>\n",
              "      <td>621072.0</td>\n",
              "    </tr>\n",
              "    <tr>\n",
              "      <th>5</th>\n",
              "      <td>8.1</td>\n",
              "      <td>1</td>\n",
              "      <td>8.4</td>\n",
              "      <td>One Bedroom Deluxe(Flash Sales)</td>\n",
              "      <td>1 full bed</td>\n",
              "      <td>178109.0</td>\n",
              "    </tr>\n",
              "  </tbody>\n",
              "</table>\n",
              "</div>\n",
              "      <button class=\"colab-df-convert\" onclick=\"convertToInteractive('df-6603bfcb-4cd1-4a69-8028-46c998ff9062')\"\n",
              "              title=\"Convert this dataframe to an interactive table.\"\n",
              "              style=\"display:none;\">\n",
              "        \n",
              "  <svg xmlns=\"http://www.w3.org/2000/svg\" height=\"24px\"viewBox=\"0 0 24 24\"\n",
              "       width=\"24px\">\n",
              "    <path d=\"M0 0h24v24H0V0z\" fill=\"none\"/>\n",
              "    <path d=\"M18.56 5.44l.94 2.06.94-2.06 2.06-.94-2.06-.94-.94-2.06-.94 2.06-2.06.94zm-11 1L8.5 8.5l.94-2.06 2.06-.94-2.06-.94L8.5 2.5l-.94 2.06-2.06.94zm10 10l.94 2.06.94-2.06 2.06-.94-2.06-.94-.94-2.06-.94 2.06-2.06.94z\"/><path d=\"M17.41 7.96l-1.37-1.37c-.4-.4-.92-.59-1.43-.59-.52 0-1.04.2-1.43.59L10.3 9.45l-7.72 7.72c-.78.78-.78 2.05 0 2.83L4 21.41c.39.39.9.59 1.41.59.51 0 1.02-.2 1.41-.59l7.78-7.78 2.81-2.81c.8-.78.8-2.07 0-2.86zM5.41 20L4 18.59l7.72-7.72 1.47 1.35L5.41 20z\"/>\n",
              "  </svg>\n",
              "      </button>\n",
              "      \n",
              "  <style>\n",
              "    .colab-df-container {\n",
              "      display:flex;\n",
              "      flex-wrap:wrap;\n",
              "      gap: 12px;\n",
              "    }\n",
              "\n",
              "    .colab-df-convert {\n",
              "      background-color: #E8F0FE;\n",
              "      border: none;\n",
              "      border-radius: 50%;\n",
              "      cursor: pointer;\n",
              "      display: none;\n",
              "      fill: #1967D2;\n",
              "      height: 32px;\n",
              "      padding: 0 0 0 0;\n",
              "      width: 32px;\n",
              "    }\n",
              "\n",
              "    .colab-df-convert:hover {\n",
              "      background-color: #E2EBFA;\n",
              "      box-shadow: 0px 1px 2px rgba(60, 64, 67, 0.3), 0px 1px 3px 1px rgba(60, 64, 67, 0.15);\n",
              "      fill: #174EA6;\n",
              "    }\n",
              "\n",
              "    [theme=dark] .colab-df-convert {\n",
              "      background-color: #3B4455;\n",
              "      fill: #D2E3FC;\n",
              "    }\n",
              "\n",
              "    [theme=dark] .colab-df-convert:hover {\n",
              "      background-color: #434B5C;\n",
              "      box-shadow: 0px 1px 3px 1px rgba(0, 0, 0, 0.15);\n",
              "      filter: drop-shadow(0px 1px 2px rgba(0, 0, 0, 0.3));\n",
              "      fill: #FFFFFF;\n",
              "    }\n",
              "  </style>\n",
              "\n",
              "      <script>\n",
              "        const buttonEl =\n",
              "          document.querySelector('#df-6603bfcb-4cd1-4a69-8028-46c998ff9062 button.colab-df-convert');\n",
              "        buttonEl.style.display =\n",
              "          google.colab.kernel.accessAllowed ? 'block' : 'none';\n",
              "\n",
              "        async function convertToInteractive(key) {\n",
              "          const element = document.querySelector('#df-6603bfcb-4cd1-4a69-8028-46c998ff9062');\n",
              "          const dataTable =\n",
              "            await google.colab.kernel.invokeFunction('convertToInteractive',\n",
              "                                                     [key], {});\n",
              "          if (!dataTable) return;\n",
              "\n",
              "          const docLinkHtml = 'Like what you see? Visit the ' +\n",
              "            '<a target=\"_blank\" href=https://colab.research.google.com/notebooks/data_table.ipynb>data table notebook</a>'\n",
              "            + ' to learn more about interactive tables.';\n",
              "          element.innerHTML = '';\n",
              "          dataTable['output_type'] = 'display_data';\n",
              "          await google.colab.output.renderOutput(dataTable, element);\n",
              "          const docLink = document.createElement('div');\n",
              "          docLink.innerHTML = docLinkHtml;\n",
              "          element.appendChild(docLink);\n",
              "        }\n",
              "      </script>\n",
              "    </div>\n",
              "  </div>\n",
              "  "
            ],
            "text/plain": [
              "   Rating  Review Score  Room Score                        Room Type  \\\n",
              "0     8.2             1         8.6       Deluxe Double or Twin Room   \n",
              "2     8.3             1         8.9             2 Bedroom Pool Villa   \n",
              "3     7.7             0         8.1            Executive Double Room   \n",
              "4     9.3             3         9.6           Villa with Garden View   \n",
              "5     8.1             1         8.4  One Bedroom Deluxe(Flash Sales)   \n",
              "\n",
              "                 Bed Type  Room Price  \n",
              "0     1 double or 2 twins    146026.0  \n",
              "2            2 queen beds    435384.0  \n",
              "3              1 full bed    146240.0  \n",
              "4     1 double or 2 twins    621072.0  \n",
              "5              1 full bed    178109.0  "
            ]
          },
          "execution_count": 20,
          "metadata": {},
          "output_type": "execute_result"
        }
      ],
      "source": [
        "db.head()"
      ]
    },
    {
      "cell_type": "markdown",
      "metadata": {
        "id": "XYmpuM7WQHzk"
      },
      "source": [
        "Cleaning string columns."
      ]
    },
    {
      "cell_type": "code",
      "execution_count": null,
      "metadata": {
        "id": "jIhDYUbFIqDH"
      },
      "outputs": [],
      "source": [
        "stop_words = stopwords.words(\"english\")"
      ]
    },
    {
      "cell_type": "code",
      "execution_count": null,
      "metadata": {
        "id": "64cvLfAgN1KT"
      },
      "outputs": [],
      "source": [
        "def cleaner_word(text):\n",
        "  tokenized = RegexpTokenizer(r'\\w+').tokenize(text)\n",
        "  clean = []\n",
        "  for word in tokenized:\n",
        "    if word not in stop_words:\n",
        "      clean.append(word)\n",
        "  return ' '.join(clean)"
      ]
    },
    {
      "cell_type": "code",
      "execution_count": null,
      "metadata": {
        "id": "GWBYy27cPUFp"
      },
      "outputs": [],
      "source": [
        "# Cleaning string columns.\n",
        "db['Room Type'] = db['Room Type'].apply(cleaner_word)\n",
        "db['Bed Type'] = db['Bed Type'].apply(cleaner_word)"
      ]
    },
    {
      "cell_type": "code",
      "execution_count": null,
      "metadata": {
        "colab": {
          "base_uri": "https://localhost:8080/",
          "height": 224
        },
        "id": "DCgIyF9fQTwL",
        "outputId": "fbf7fe06-afec-4ece-e86f-16a962491e1d"
      },
      "outputs": [
        {
          "name": "stdout",
          "output_type": "stream",
          "text": [
            "(2433, 6)\n"
          ]
        },
        {
          "data": {
            "text/html": [
              "\n",
              "  <div id=\"df-632d7d26-6cf1-4fd2-a805-432e8d53735a\">\n",
              "    <div class=\"colab-df-container\">\n",
              "      <div>\n",
              "<style scoped>\n",
              "    .dataframe tbody tr th:only-of-type {\n",
              "        vertical-align: middle;\n",
              "    }\n",
              "\n",
              "    .dataframe tbody tr th {\n",
              "        vertical-align: top;\n",
              "    }\n",
              "\n",
              "    .dataframe thead th {\n",
              "        text-align: right;\n",
              "    }\n",
              "</style>\n",
              "<table border=\"1\" class=\"dataframe\">\n",
              "  <thead>\n",
              "    <tr style=\"text-align: right;\">\n",
              "      <th></th>\n",
              "      <th>Rating</th>\n",
              "      <th>Review Score</th>\n",
              "      <th>Room Score</th>\n",
              "      <th>Room Type</th>\n",
              "      <th>Bed Type</th>\n",
              "      <th>Room Price</th>\n",
              "    </tr>\n",
              "  </thead>\n",
              "  <tbody>\n",
              "    <tr>\n",
              "      <th>0</th>\n",
              "      <td>8.2</td>\n",
              "      <td>1</td>\n",
              "      <td>8.6</td>\n",
              "      <td>Deluxe Double Twin Room</td>\n",
              "      <td>1 double 2 twins</td>\n",
              "      <td>146026.0</td>\n",
              "    </tr>\n",
              "    <tr>\n",
              "      <th>2</th>\n",
              "      <td>8.3</td>\n",
              "      <td>1</td>\n",
              "      <td>8.9</td>\n",
              "      <td>2 Bedroom Pool Villa</td>\n",
              "      <td>2 queen beds</td>\n",
              "      <td>435384.0</td>\n",
              "    </tr>\n",
              "    <tr>\n",
              "      <th>3</th>\n",
              "      <td>7.7</td>\n",
              "      <td>0</td>\n",
              "      <td>8.1</td>\n",
              "      <td>Executive Double Room</td>\n",
              "      <td>1 full bed</td>\n",
              "      <td>146240.0</td>\n",
              "    </tr>\n",
              "    <tr>\n",
              "      <th>4</th>\n",
              "      <td>9.3</td>\n",
              "      <td>3</td>\n",
              "      <td>9.6</td>\n",
              "      <td>Villa Garden View</td>\n",
              "      <td>1 double 2 twins</td>\n",
              "      <td>621072.0</td>\n",
              "    </tr>\n",
              "    <tr>\n",
              "      <th>5</th>\n",
              "      <td>8.1</td>\n",
              "      <td>1</td>\n",
              "      <td>8.4</td>\n",
              "      <td>One Bedroom Deluxe Flash Sales</td>\n",
              "      <td>1 full bed</td>\n",
              "      <td>178109.0</td>\n",
              "    </tr>\n",
              "  </tbody>\n",
              "</table>\n",
              "</div>\n",
              "      <button class=\"colab-df-convert\" onclick=\"convertToInteractive('df-632d7d26-6cf1-4fd2-a805-432e8d53735a')\"\n",
              "              title=\"Convert this dataframe to an interactive table.\"\n",
              "              style=\"display:none;\">\n",
              "        \n",
              "  <svg xmlns=\"http://www.w3.org/2000/svg\" height=\"24px\"viewBox=\"0 0 24 24\"\n",
              "       width=\"24px\">\n",
              "    <path d=\"M0 0h24v24H0V0z\" fill=\"none\"/>\n",
              "    <path d=\"M18.56 5.44l.94 2.06.94-2.06 2.06-.94-2.06-.94-.94-2.06-.94 2.06-2.06.94zm-11 1L8.5 8.5l.94-2.06 2.06-.94-2.06-.94L8.5 2.5l-.94 2.06-2.06.94zm10 10l.94 2.06.94-2.06 2.06-.94-2.06-.94-.94-2.06-.94 2.06-2.06.94z\"/><path d=\"M17.41 7.96l-1.37-1.37c-.4-.4-.92-.59-1.43-.59-.52 0-1.04.2-1.43.59L10.3 9.45l-7.72 7.72c-.78.78-.78 2.05 0 2.83L4 21.41c.39.39.9.59 1.41.59.51 0 1.02-.2 1.41-.59l7.78-7.78 2.81-2.81c.8-.78.8-2.07 0-2.86zM5.41 20L4 18.59l7.72-7.72 1.47 1.35L5.41 20z\"/>\n",
              "  </svg>\n",
              "      </button>\n",
              "      \n",
              "  <style>\n",
              "    .colab-df-container {\n",
              "      display:flex;\n",
              "      flex-wrap:wrap;\n",
              "      gap: 12px;\n",
              "    }\n",
              "\n",
              "    .colab-df-convert {\n",
              "      background-color: #E8F0FE;\n",
              "      border: none;\n",
              "      border-radius: 50%;\n",
              "      cursor: pointer;\n",
              "      display: none;\n",
              "      fill: #1967D2;\n",
              "      height: 32px;\n",
              "      padding: 0 0 0 0;\n",
              "      width: 32px;\n",
              "    }\n",
              "\n",
              "    .colab-df-convert:hover {\n",
              "      background-color: #E2EBFA;\n",
              "      box-shadow: 0px 1px 2px rgba(60, 64, 67, 0.3), 0px 1px 3px 1px rgba(60, 64, 67, 0.15);\n",
              "      fill: #174EA6;\n",
              "    }\n",
              "\n",
              "    [theme=dark] .colab-df-convert {\n",
              "      background-color: #3B4455;\n",
              "      fill: #D2E3FC;\n",
              "    }\n",
              "\n",
              "    [theme=dark] .colab-df-convert:hover {\n",
              "      background-color: #434B5C;\n",
              "      box-shadow: 0px 1px 3px 1px rgba(0, 0, 0, 0.15);\n",
              "      filter: drop-shadow(0px 1px 2px rgba(0, 0, 0, 0.3));\n",
              "      fill: #FFFFFF;\n",
              "    }\n",
              "  </style>\n",
              "\n",
              "      <script>\n",
              "        const buttonEl =\n",
              "          document.querySelector('#df-632d7d26-6cf1-4fd2-a805-432e8d53735a button.colab-df-convert');\n",
              "        buttonEl.style.display =\n",
              "          google.colab.kernel.accessAllowed ? 'block' : 'none';\n",
              "\n",
              "        async function convertToInteractive(key) {\n",
              "          const element = document.querySelector('#df-632d7d26-6cf1-4fd2-a805-432e8d53735a');\n",
              "          const dataTable =\n",
              "            await google.colab.kernel.invokeFunction('convertToInteractive',\n",
              "                                                     [key], {});\n",
              "          if (!dataTable) return;\n",
              "\n",
              "          const docLinkHtml = 'Like what you see? Visit the ' +\n",
              "            '<a target=\"_blank\" href=https://colab.research.google.com/notebooks/data_table.ipynb>data table notebook</a>'\n",
              "            + ' to learn more about interactive tables.';\n",
              "          element.innerHTML = '';\n",
              "          dataTable['output_type'] = 'display_data';\n",
              "          await google.colab.output.renderOutput(dataTable, element);\n",
              "          const docLink = document.createElement('div');\n",
              "          docLink.innerHTML = docLinkHtml;\n",
              "          element.appendChild(docLink);\n",
              "        }\n",
              "      </script>\n",
              "    </div>\n",
              "  </div>\n",
              "  "
            ],
            "text/plain": [
              "   Rating  Review Score  Room Score                       Room Type  \\\n",
              "0     8.2             1         8.6         Deluxe Double Twin Room   \n",
              "2     8.3             1         8.9            2 Bedroom Pool Villa   \n",
              "3     7.7             0         8.1           Executive Double Room   \n",
              "4     9.3             3         9.6               Villa Garden View   \n",
              "5     8.1             1         8.4  One Bedroom Deluxe Flash Sales   \n",
              "\n",
              "           Bed Type  Room Price  \n",
              "0  1 double 2 twins    146026.0  \n",
              "2      2 queen beds    435384.0  \n",
              "3        1 full bed    146240.0  \n",
              "4  1 double 2 twins    621072.0  \n",
              "5        1 full bed    178109.0  "
            ]
          },
          "execution_count": 24,
          "metadata": {},
          "output_type": "execute_result"
        }
      ],
      "source": [
        "print(db.shape)\n",
        "db.head()"
      ]
    },
    {
      "cell_type": "code",
      "execution_count": null,
      "metadata": {
        "id": "Fzt1q1wLRqzk"
      },
      "outputs": [],
      "source": [
        "vectorizer = TfidfVectorizer()"
      ]
    },
    {
      "cell_type": "code",
      "execution_count": null,
      "metadata": {
        "id": "UKBCj2ifR9bl"
      },
      "outputs": [],
      "source": [
        "room_type_vectorized = vectorizer.fit_transform(db['Room Type'])\n",
        "bed_type_vectorized = vectorizer.fit_transform(db['Bed Type'])"
      ]
    },
    {
      "cell_type": "code",
      "execution_count": null,
      "metadata": {
        "id": "yQ5CEXcUYJIL"
      },
      "outputs": [],
      "source": [
        "y = db.pop('Rating')"
      ]
    },
    {
      "cell_type": "code",
      "execution_count": null,
      "metadata": {
        "colab": {
          "base_uri": "https://localhost:8080/",
          "height": 206
        },
        "id": "O8BC57r0YQpe",
        "outputId": "9b76e663-72f7-40af-ec08-d7dc6ac09138"
      },
      "outputs": [
        {
          "data": {
            "text/html": [
              "\n",
              "  <div id=\"df-06fd3e45-f152-408f-830c-931556fb2136\">\n",
              "    <div class=\"colab-df-container\">\n",
              "      <div>\n",
              "<style scoped>\n",
              "    .dataframe tbody tr th:only-of-type {\n",
              "        vertical-align: middle;\n",
              "    }\n",
              "\n",
              "    .dataframe tbody tr th {\n",
              "        vertical-align: top;\n",
              "    }\n",
              "\n",
              "    .dataframe thead th {\n",
              "        text-align: right;\n",
              "    }\n",
              "</style>\n",
              "<table border=\"1\" class=\"dataframe\">\n",
              "  <thead>\n",
              "    <tr style=\"text-align: right;\">\n",
              "      <th></th>\n",
              "      <th>Review Score</th>\n",
              "      <th>Room Score</th>\n",
              "      <th>Room Type</th>\n",
              "      <th>Bed Type</th>\n",
              "      <th>Room Price</th>\n",
              "    </tr>\n",
              "  </thead>\n",
              "  <tbody>\n",
              "    <tr>\n",
              "      <th>0</th>\n",
              "      <td>1</td>\n",
              "      <td>8.6</td>\n",
              "      <td>Deluxe Double Twin Room</td>\n",
              "      <td>1 double 2 twins</td>\n",
              "      <td>146026.0</td>\n",
              "    </tr>\n",
              "    <tr>\n",
              "      <th>2</th>\n",
              "      <td>1</td>\n",
              "      <td>8.9</td>\n",
              "      <td>2 Bedroom Pool Villa</td>\n",
              "      <td>2 queen beds</td>\n",
              "      <td>435384.0</td>\n",
              "    </tr>\n",
              "    <tr>\n",
              "      <th>3</th>\n",
              "      <td>0</td>\n",
              "      <td>8.1</td>\n",
              "      <td>Executive Double Room</td>\n",
              "      <td>1 full bed</td>\n",
              "      <td>146240.0</td>\n",
              "    </tr>\n",
              "    <tr>\n",
              "      <th>4</th>\n",
              "      <td>3</td>\n",
              "      <td>9.6</td>\n",
              "      <td>Villa Garden View</td>\n",
              "      <td>1 double 2 twins</td>\n",
              "      <td>621072.0</td>\n",
              "    </tr>\n",
              "    <tr>\n",
              "      <th>5</th>\n",
              "      <td>1</td>\n",
              "      <td>8.4</td>\n",
              "      <td>One Bedroom Deluxe Flash Sales</td>\n",
              "      <td>1 full bed</td>\n",
              "      <td>178109.0</td>\n",
              "    </tr>\n",
              "  </tbody>\n",
              "</table>\n",
              "</div>\n",
              "      <button class=\"colab-df-convert\" onclick=\"convertToInteractive('df-06fd3e45-f152-408f-830c-931556fb2136')\"\n",
              "              title=\"Convert this dataframe to an interactive table.\"\n",
              "              style=\"display:none;\">\n",
              "        \n",
              "  <svg xmlns=\"http://www.w3.org/2000/svg\" height=\"24px\"viewBox=\"0 0 24 24\"\n",
              "       width=\"24px\">\n",
              "    <path d=\"M0 0h24v24H0V0z\" fill=\"none\"/>\n",
              "    <path d=\"M18.56 5.44l.94 2.06.94-2.06 2.06-.94-2.06-.94-.94-2.06-.94 2.06-2.06.94zm-11 1L8.5 8.5l.94-2.06 2.06-.94-2.06-.94L8.5 2.5l-.94 2.06-2.06.94zm10 10l.94 2.06.94-2.06 2.06-.94-2.06-.94-.94-2.06-.94 2.06-2.06.94z\"/><path d=\"M17.41 7.96l-1.37-1.37c-.4-.4-.92-.59-1.43-.59-.52 0-1.04.2-1.43.59L10.3 9.45l-7.72 7.72c-.78.78-.78 2.05 0 2.83L4 21.41c.39.39.9.59 1.41.59.51 0 1.02-.2 1.41-.59l7.78-7.78 2.81-2.81c.8-.78.8-2.07 0-2.86zM5.41 20L4 18.59l7.72-7.72 1.47 1.35L5.41 20z\"/>\n",
              "  </svg>\n",
              "      </button>\n",
              "      \n",
              "  <style>\n",
              "    .colab-df-container {\n",
              "      display:flex;\n",
              "      flex-wrap:wrap;\n",
              "      gap: 12px;\n",
              "    }\n",
              "\n",
              "    .colab-df-convert {\n",
              "      background-color: #E8F0FE;\n",
              "      border: none;\n",
              "      border-radius: 50%;\n",
              "      cursor: pointer;\n",
              "      display: none;\n",
              "      fill: #1967D2;\n",
              "      height: 32px;\n",
              "      padding: 0 0 0 0;\n",
              "      width: 32px;\n",
              "    }\n",
              "\n",
              "    .colab-df-convert:hover {\n",
              "      background-color: #E2EBFA;\n",
              "      box-shadow: 0px 1px 2px rgba(60, 64, 67, 0.3), 0px 1px 3px 1px rgba(60, 64, 67, 0.15);\n",
              "      fill: #174EA6;\n",
              "    }\n",
              "\n",
              "    [theme=dark] .colab-df-convert {\n",
              "      background-color: #3B4455;\n",
              "      fill: #D2E3FC;\n",
              "    }\n",
              "\n",
              "    [theme=dark] .colab-df-convert:hover {\n",
              "      background-color: #434B5C;\n",
              "      box-shadow: 0px 1px 3px 1px rgba(0, 0, 0, 0.15);\n",
              "      filter: drop-shadow(0px 1px 2px rgba(0, 0, 0, 0.3));\n",
              "      fill: #FFFFFF;\n",
              "    }\n",
              "  </style>\n",
              "\n",
              "      <script>\n",
              "        const buttonEl =\n",
              "          document.querySelector('#df-06fd3e45-f152-408f-830c-931556fb2136 button.colab-df-convert');\n",
              "        buttonEl.style.display =\n",
              "          google.colab.kernel.accessAllowed ? 'block' : 'none';\n",
              "\n",
              "        async function convertToInteractive(key) {\n",
              "          const element = document.querySelector('#df-06fd3e45-f152-408f-830c-931556fb2136');\n",
              "          const dataTable =\n",
              "            await google.colab.kernel.invokeFunction('convertToInteractive',\n",
              "                                                     [key], {});\n",
              "          if (!dataTable) return;\n",
              "\n",
              "          const docLinkHtml = 'Like what you see? Visit the ' +\n",
              "            '<a target=\"_blank\" href=https://colab.research.google.com/notebooks/data_table.ipynb>data table notebook</a>'\n",
              "            + ' to learn more about interactive tables.';\n",
              "          element.innerHTML = '';\n",
              "          dataTable['output_type'] = 'display_data';\n",
              "          await google.colab.output.renderOutput(dataTable, element);\n",
              "          const docLink = document.createElement('div');\n",
              "          docLink.innerHTML = docLinkHtml;\n",
              "          element.appendChild(docLink);\n",
              "        }\n",
              "      </script>\n",
              "    </div>\n",
              "  </div>\n",
              "  "
            ],
            "text/plain": [
              "   Review Score  Room Score                       Room Type          Bed Type  \\\n",
              "0             1         8.6         Deluxe Double Twin Room  1 double 2 twins   \n",
              "2             1         8.9            2 Bedroom Pool Villa      2 queen beds   \n",
              "3             0         8.1           Executive Double Room        1 full bed   \n",
              "4             3         9.6               Villa Garden View  1 double 2 twins   \n",
              "5             1         8.4  One Bedroom Deluxe Flash Sales        1 full bed   \n",
              "\n",
              "   Room Price  \n",
              "0    146026.0  \n",
              "2    435384.0  \n",
              "3    146240.0  \n",
              "4    621072.0  \n",
              "5    178109.0  "
            ]
          },
          "execution_count": 96,
          "metadata": {},
          "output_type": "execute_result"
        }
      ],
      "source": [
        "db.head()"
      ]
    },
    {
      "cell_type": "code",
      "execution_count": null,
      "metadata": {
        "colab": {
          "base_uri": "https://localhost:8080/"
        },
        "id": "y9syP7ti6nF4",
        "outputId": "858d190c-c954-4e19-a8c4-5e6a59e67569"
      },
      "outputs": [
        {
          "name": "stdout",
          "output_type": "stream",
          "text": [
            "Number of features vectoriced Room Type:  328\n",
            "Number of features vectoriced Bed Type:  17\n"
          ]
        }
      ],
      "source": [
        "print('Number of features vectoriced Room Type: ', min(room_type_vectorized.shape)-1)\n",
        "print('Number of features vectoriced Bed Type: ', min(bed_type_vectorized.shape)-1)"
      ]
    },
    {
      "cell_type": "code",
      "execution_count": null,
      "metadata": {
        "id": "DwhOkAYQEo6j"
      },
      "outputs": [],
      "source": [
        "room_bed_type_stack_vectorized = hstack((room_type_vectorized, bed_type_vectorized))"
      ]
    },
    {
      "cell_type": "code",
      "execution_count": null,
      "metadata": {
        "colab": {
          "base_uri": "https://localhost:8080/",
          "height": 447
        },
        "id": "lKFoHAcbEweF",
        "outputId": "2202235a-34e2-4d3a-8355-94b6d402a7d6"
      },
      "outputs": [
        {
          "data": {
            "text/plain": [
              "[<matplotlib.lines.Line2D at 0x7fa4b6c27220>]"
            ]
          },
          "execution_count": 254,
          "metadata": {},
          "output_type": "execute_result"
        },
        {
          "data": {
            "image/png": "[encoded data removed]",
            "text/plain": [
              "<Figure size 640x480 with 1 Axes>"
            ]
          },
          "metadata": {},
          "output_type": "display_data"
        }
      ],
      "source": [
        "tsvd = TruncatedSVD(n_components=min(room_bed_type_stack_vectorized.shape)-1)\n",
        "tsvd.fit(room_bed_type_stack_vectorized)\n",
        "plt.plot(tsvd.explained_variance_ratio_)"
      ]
    },
    {
      "cell_type": "code",
      "execution_count": null,
      "metadata": {
        "id": "6OWr0OlMGN1a"
      },
      "outputs": [],
      "source": [
        "tsvd = TruncatedSVD(n_components=75)\n",
        "bed_room_type_SVD = tsvd.fit_transform(room_bed_type_stack_vectorized)"
      ]
    },
    {
      "cell_type": "code",
      "execution_count": null,
      "metadata": {
        "colab": {
          "base_uri": "https://localhost:8080/"
        },
        "id": "WILK4BGNG0XO",
        "outputId": "8969b5d8-63ea-4ff1-c433-f0400120f22d"
      },
      "outputs": [
        {
          "name": "stdout",
          "output_type": "stream",
          "text": [
            "Num features bed_type and room_type: 75\n",
            "(2433, 75)\n"
          ]
        }
      ],
      "source": [
        "print('Num features bed_type and room_type:', bed_room_type_SVD.shape[1])\n",
        "print(bed_room_type_SVD.shape)"
      ]
    },
    {
      "cell_type": "code",
      "execution_count": null,
      "metadata": {
        "colab": {
          "base_uri": "https://localhost:8080/",
          "height": 81
        },
        "id": "2-g49OZ50iGD",
        "outputId": "2c0d59eb-05f3-4d88-87bd-ee76067df72f"
      },
      "outputs": [
        {
          "data": {
            "text/html": [
              "\n",
              "  <div id=\"df-665678fa-fc1d-4832-aafa-b241932401ae\">\n",
              "    <div class=\"colab-df-container\">\n",
              "      <div>\n",
              "<style scoped>\n",
              "    .dataframe tbody tr th:only-of-type {\n",
              "        vertical-align: middle;\n",
              "    }\n",
              "\n",
              "    .dataframe tbody tr th {\n",
              "        vertical-align: top;\n",
              "    }\n",
              "\n",
              "    .dataframe thead th {\n",
              "        text-align: right;\n",
              "    }\n",
              "</style>\n",
              "<table border=\"1\" class=\"dataframe\">\n",
              "  <thead>\n",
              "    <tr style=\"text-align: right;\">\n",
              "      <th></th>\n",
              "      <th>Review Score</th>\n",
              "      <th>Room Score</th>\n",
              "      <th>Room Type</th>\n",
              "      <th>Bed Type</th>\n",
              "      <th>Room Price</th>\n",
              "    </tr>\n",
              "  </thead>\n",
              "  <tbody>\n",
              "    <tr>\n",
              "      <th>0</th>\n",
              "      <td>1</td>\n",
              "      <td>8.6</td>\n",
              "      <td>Deluxe Double Twin Room</td>\n",
              "      <td>1 double 2 twins</td>\n",
              "      <td>146026.0</td>\n",
              "    </tr>\n",
              "  </tbody>\n",
              "</table>\n",
              "</div>\n",
              "      <button class=\"colab-df-convert\" onclick=\"convertToInteractive('df-665678fa-fc1d-4832-aafa-b241932401ae')\"\n",
              "              title=\"Convert this dataframe to an interactive table.\"\n",
              "              style=\"display:none;\">\n",
              "        \n",
              "  <svg xmlns=\"http://www.w3.org/2000/svg\" height=\"24px\"viewBox=\"0 0 24 24\"\n",
              "       width=\"24px\">\n",
              "    <path d=\"M0 0h24v24H0V0z\" fill=\"none\"/>\n",
              "    <path d=\"M18.56 5.44l.94 2.06.94-2.06 2.06-.94-2.06-.94-.94-2.06-.94 2.06-2.06.94zm-11 1L8.5 8.5l.94-2.06 2.06-.94-2.06-.94L8.5 2.5l-.94 2.06-2.06.94zm10 10l.94 2.06.94-2.06 2.06-.94-2.06-.94-.94-2.06-.94 2.06-2.06.94z\"/><path d=\"M17.41 7.96l-1.37-1.37c-.4-.4-.92-.59-1.43-.59-.52 0-1.04.2-1.43.59L10.3 9.45l-7.72 7.72c-.78.78-.78 2.05 0 2.83L4 21.41c.39.39.9.59 1.41.59.51 0 1.02-.2 1.41-.59l7.78-7.78 2.81-2.81c.8-.78.8-2.07 0-2.86zM5.41 20L4 18.59l7.72-7.72 1.47 1.35L5.41 20z\"/>\n",
              "  </svg>\n",
              "      </button>\n",
              "      \n",
              "  <style>\n",
              "    .colab-df-container {\n",
              "      display:flex;\n",
              "      flex-wrap:wrap;\n",
              "      gap: 12px;\n",
              "    }\n",
              "\n",
              "    .colab-df-convert {\n",
              "      background-color: #E8F0FE;\n",
              "      border: none;\n",
              "      border-radius: 50%;\n",
              "      cursor: pointer;\n",
              "      display: none;\n",
              "      fill: #1967D2;\n",
              "      height: 32px;\n",
              "      padding: 0 0 0 0;\n",
              "      width: 32px;\n",
              "    }\n",
              "\n",
              "    .colab-df-convert:hover {\n",
              "      background-color: #E2EBFA;\n",
              "      box-shadow: 0px 1px 2px rgba(60, 64, 67, 0.3), 0px 1px 3px 1px rgba(60, 64, 67, 0.15);\n",
              "      fill: #174EA6;\n",
              "    }\n",
              "\n",
              "    [theme=dark] .colab-df-convert {\n",
              "      background-color: #3B4455;\n",
              "      fill: #D2E3FC;\n",
              "    }\n",
              "\n",
              "    [theme=dark] .colab-df-convert:hover {\n",
              "      background-color: #434B5C;\n",
              "      box-shadow: 0px 1px 3px 1px rgba(0, 0, 0, 0.15);\n",
              "      filter: drop-shadow(0px 1px 2px rgba(0, 0, 0, 0.3));\n",
              "      fill: #FFFFFF;\n",
              "    }\n",
              "  </style>\n",
              "\n",
              "      <script>\n",
              "        const buttonEl =\n",
              "          document.querySelector('#df-665678fa-fc1d-4832-aafa-b241932401ae button.colab-df-convert');\n",
              "        buttonEl.style.display =\n",
              "          google.colab.kernel.accessAllowed ? 'block' : 'none';\n",
              "\n",
              "        async function convertToInteractive(key) {\n",
              "          const element = document.querySelector('#df-665678fa-fc1d-4832-aafa-b241932401ae');\n",
              "          const dataTable =\n",
              "            await google.colab.kernel.invokeFunction('convertToInteractive',\n",
              "                                                     [key], {});\n",
              "          if (!dataTable) return;\n",
              "\n",
              "          const docLinkHtml = 'Like what you see? Visit the ' +\n",
              "            '<a target=\"_blank\" href=https://colab.research.google.com/notebooks/data_table.ipynb>data table notebook</a>'\n",
              "            + ' to learn more about interactive tables.';\n",
              "          element.innerHTML = '';\n",
              "          dataTable['output_type'] = 'display_data';\n",
              "          await google.colab.output.renderOutput(dataTable, element);\n",
              "          const docLink = document.createElement('div');\n",
              "          docLink.innerHTML = docLinkHtml;\n",
              "          element.appendChild(docLink);\n",
              "        }\n",
              "      </script>\n",
              "    </div>\n",
              "  </div>\n",
              "  "
            ],
            "text/plain": [
              "   Review Score  Room Score                Room Type          Bed Type  \\\n",
              "0             1         8.6  Deluxe Double Twin Room  1 double 2 twins   \n",
              "\n",
              "   Room Price  \n",
              "0    146026.0  "
            ]
          },
          "execution_count": 236,
          "metadata": {},
          "output_type": "execute_result"
        }
      ],
      "source": [
        "db[:1]"
      ]
    },
    {
      "cell_type": "code",
      "execution_count": null,
      "metadata": {
        "colab": {
          "base_uri": "https://localhost:8080/",
          "height": 313
        },
        "id": "IrCD-mA6KcT-",
        "outputId": "ee478846-58e7-4a81-dfab-164a1c29be29"
      },
      "outputs": [],
      "source": [
        "features = hstack([bed_room_type_SVD, db[['Review Score', 'Room Score', 'Room Price']].values])"
      ]
    },
    {
      "cell_type": "code",
      "execution_count": null,
      "metadata": {
        "colab": {
          "base_uri": "https://localhost:8080/"
        },
        "id": "4arqHuSILgs3",
        "outputId": "0cc9fc1f-35ac-48ac-ea17-b6d2d88c7ecd"
      },
      "outputs": [
        {
          "data": {
            "text/plain": [
              "(2433, 3)"
            ]
          },
          "execution_count": 250,
          "metadata": {},
          "output_type": "execute_result"
        }
      ],
      "source": [
        "db[['Review Score', 'Room Score', 'Room Price']].shape"
      ]
    },
    {
      "cell_type": "code",
      "execution_count": null,
      "metadata": {
        "colab": {
          "base_uri": "https://localhost:8080/"
        },
        "id": "bV7EXlgXLis7",
        "outputId": "ff34b438-99a5-43ea-8032-b47e23722d98"
      },
      "outputs": [
        {
          "data": {
            "text/plain": [
              "(2433, 347)"
            ]
          },
          "execution_count": 251,
          "metadata": {},
          "output_type": "execute_result"
        }
      ],
      "source": [
        "room_bed_type_stack_vectorized.shape"
      ]
    },
    {
      "cell_type": "code",
      "execution_count": null,
      "metadata": {
        "colab": {
          "base_uri": "https://localhost:8080/"
        },
        "id": "Pz-PnClxJ3eY",
        "outputId": "276edc56-ee6e-4489-e22d-de92f6f2989f"
      },
      "outputs": [
        {
          "data": {
            "text/plain": [
              "(2433, 350)"
            ]
          },
          "execution_count": 248,
          "metadata": {},
          "output_type": "execute_result"
        }
      ],
      "source": [
        "features.shape"
      ]
    }
  ],
  "metadata": {
    "accelerator": "TPU",
    "colab": {
      "provenance": []
    },
    "gpuClass": "standard",
    "kernelspec": {
      "display_name": "Python 3",
      "name": "python3"
    },
    "language_info": {
      "name": "python"
    }
  },
  "nbformat": 4,
  "nbformat_minor": 0
}
